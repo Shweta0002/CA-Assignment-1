{
 "cells": [
  {
   "cell_type": "code",
   "execution_count": 1,
   "metadata": {},
   "outputs": [],
   "source": [
    "import numpy as np\n",
    "import pandas as pd\n",
    "import sklearn \n",
    "import matplotlib.pyplot as plt\n",
    "from scipy.stats import ttest_ind\n",
    "import seaborn as sn"
   ]
  },
  {
   "cell_type": "code",
   "execution_count": 6,
   "metadata": {},
   "outputs": [],
   "source": [
    "dataset = pd.read_csv(\"511_DATAPOINTS.csv\")\n",
    "dataset= dataset.iloc[650:]"
   ]
  },
  {
   "cell_type": "code",
   "execution_count": 7,
   "metadata": {},
   "outputs": [
    {
     "data": {
      "text/html": [
       "<div>\n",
       "<style scoped>\n",
       "    .dataframe tbody tr th:only-of-type {\n",
       "        vertical-align: middle;\n",
       "    }\n",
       "\n",
       "    .dataframe tbody tr th {\n",
       "        vertical-align: top;\n",
       "    }\n",
       "\n",
       "    .dataframe thead th {\n",
       "        text-align: right;\n",
       "    }\n",
       "</style>\n",
       "<table border=\"1\" class=\"dataframe\">\n",
       "  <thead>\n",
       "    <tr style=\"text-align: right;\">\n",
       "      <th></th>\n",
       "      <th>index</th>\n",
       "      <th>time</th>\n",
       "      <th>iTLB-load-misses</th>\n",
       "      <th>dTLB-store-misses</th>\n",
       "      <th>L1-icache-load-misses</th>\n",
       "      <th>cache-misses:u</th>\n",
       "      <th>cpu-cycles:u</th>\n",
       "      <th>LLC-store-misses</th>\n",
       "      <th>LLC-load-misses</th>\n",
       "      <th>dTLB-load-misses</th>\n",
       "      <th>branch-misses:u</th>\n",
       "      <th>instructions:u</th>\n",
       "      <th>branch-load-misses</th>\n",
       "      <th>L1-dcache-load-misses</th>\n",
       "      <th>cpi</th>\n",
       "    </tr>\n",
       "  </thead>\n",
       "  <tbody>\n",
       "    <tr>\n",
       "      <th>650</th>\n",
       "      <td>650</td>\n",
       "      <td>130.428189</td>\n",
       "      <td>1582</td>\n",
       "      <td>2129</td>\n",
       "      <td>519109</td>\n",
       "      <td>1749</td>\n",
       "      <td>508965045</td>\n",
       "      <td>0</td>\n",
       "      <td>1166</td>\n",
       "      <td>29699</td>\n",
       "      <td>1591278</td>\n",
       "      <td>1167484563</td>\n",
       "      <td>1585138</td>\n",
       "      <td>23035118</td>\n",
       "      <td>0.435950</td>\n",
       "    </tr>\n",
       "    <tr>\n",
       "      <th>651</th>\n",
       "      <td>651</td>\n",
       "      <td>130.628370</td>\n",
       "      <td>2959</td>\n",
       "      <td>2749</td>\n",
       "      <td>736483</td>\n",
       "      <td>2335</td>\n",
       "      <td>508928133</td>\n",
       "      <td>0</td>\n",
       "      <td>475</td>\n",
       "      <td>51500</td>\n",
       "      <td>1808328</td>\n",
       "      <td>1151583259</td>\n",
       "      <td>1493509</td>\n",
       "      <td>24721812</td>\n",
       "      <td>0.441938</td>\n",
       "    </tr>\n",
       "    <tr>\n",
       "      <th>652</th>\n",
       "      <td>652</td>\n",
       "      <td>130.828560</td>\n",
       "      <td>2683</td>\n",
       "      <td>3909</td>\n",
       "      <td>565950</td>\n",
       "      <td>1847</td>\n",
       "      <td>509496648</td>\n",
       "      <td>9</td>\n",
       "      <td>744</td>\n",
       "      <td>52315</td>\n",
       "      <td>1397484</td>\n",
       "      <td>1187247057</td>\n",
       "      <td>1668774</td>\n",
       "      <td>25597489</td>\n",
       "      <td>0.429141</td>\n",
       "    </tr>\n",
       "    <tr>\n",
       "      <th>653</th>\n",
       "      <td>653</td>\n",
       "      <td>131.028737</td>\n",
       "      <td>1713</td>\n",
       "      <td>5899</td>\n",
       "      <td>646403</td>\n",
       "      <td>2358</td>\n",
       "      <td>507107385</td>\n",
       "      <td>0</td>\n",
       "      <td>1101</td>\n",
       "      <td>56910</td>\n",
       "      <td>1990793</td>\n",
       "      <td>1111215944</td>\n",
       "      <td>2018323</td>\n",
       "      <td>24890306</td>\n",
       "      <td>0.456354</td>\n",
       "    </tr>\n",
       "    <tr>\n",
       "      <th>654</th>\n",
       "      <td>654</td>\n",
       "      <td>131.228921</td>\n",
       "      <td>1765</td>\n",
       "      <td>1479</td>\n",
       "      <td>609630</td>\n",
       "      <td>2589</td>\n",
       "      <td>507957656</td>\n",
       "      <td>0</td>\n",
       "      <td>2526</td>\n",
       "      <td>24265</td>\n",
       "      <td>1521983</td>\n",
       "      <td>1171503669</td>\n",
       "      <td>1345563</td>\n",
       "      <td>22532481</td>\n",
       "      <td>0.433595</td>\n",
       "    </tr>\n",
       "  </tbody>\n",
       "</table>\n",
       "</div>"
      ],
      "text/plain": [
       "     index        time  iTLB-load-misses  dTLB-store-misses  \\\n",
       "650    650  130.428189              1582               2129   \n",
       "651    651  130.628370              2959               2749   \n",
       "652    652  130.828560              2683               3909   \n",
       "653    653  131.028737              1713               5899   \n",
       "654    654  131.228921              1765               1479   \n",
       "\n",
       "     L1-icache-load-misses  cache-misses:u  cpu-cycles:u  LLC-store-misses  \\\n",
       "650                 519109            1749     508965045                 0   \n",
       "651                 736483            2335     508928133                 0   \n",
       "652                 565950            1847     509496648                 9   \n",
       "653                 646403            2358     507107385                 0   \n",
       "654                 609630            2589     507957656                 0   \n",
       "\n",
       "     LLC-load-misses  dTLB-load-misses  branch-misses:u  instructions:u  \\\n",
       "650             1166             29699          1591278      1167484563   \n",
       "651              475             51500          1808328      1151583259   \n",
       "652              744             52315          1397484      1187247057   \n",
       "653             1101             56910          1990793      1111215944   \n",
       "654             2526             24265          1521983      1171503669   \n",
       "\n",
       "     branch-load-misses  L1-dcache-load-misses       cpi  \n",
       "650             1585138               23035118  0.435950  \n",
       "651             1493509               24721812  0.441938  \n",
       "652             1668774               25597489  0.429141  \n",
       "653             2018323               24890306  0.456354  \n",
       "654             1345563               22532481  0.433595  "
      ]
     },
     "execution_count": 7,
     "metadata": {},
     "output_type": "execute_result"
    }
   ],
   "source": [
    "dataset.head()"
   ]
  },
  {
   "cell_type": "code",
   "execution_count": 8,
   "metadata": {},
   "outputs": [
    {
     "data": {
      "text/html": [
       "<div>\n",
       "<style scoped>\n",
       "    .dataframe tbody tr th:only-of-type {\n",
       "        vertical-align: middle;\n",
       "    }\n",
       "\n",
       "    .dataframe tbody tr th {\n",
       "        vertical-align: top;\n",
       "    }\n",
       "\n",
       "    .dataframe thead th {\n",
       "        text-align: right;\n",
       "    }\n",
       "</style>\n",
       "<table border=\"1\" class=\"dataframe\">\n",
       "  <thead>\n",
       "    <tr style=\"text-align: right;\">\n",
       "      <th></th>\n",
       "      <th>index</th>\n",
       "      <th>time</th>\n",
       "      <th>iTLB-load-misses</th>\n",
       "      <th>dTLB-store-misses</th>\n",
       "      <th>L1-icache-load-misses</th>\n",
       "      <th>cache-misses:u</th>\n",
       "      <th>cpu-cycles:u</th>\n",
       "      <th>LLC-store-misses</th>\n",
       "      <th>LLC-load-misses</th>\n",
       "      <th>dTLB-load-misses</th>\n",
       "      <th>branch-misses:u</th>\n",
       "      <th>instructions:u</th>\n",
       "      <th>branch-load-misses</th>\n",
       "      <th>L1-dcache-load-misses</th>\n",
       "      <th>cpi</th>\n",
       "    </tr>\n",
       "  </thead>\n",
       "  <tbody>\n",
       "    <tr>\n",
       "      <th>count</th>\n",
       "      <td>2524.000000</td>\n",
       "      <td>2524.000000</td>\n",
       "      <td>2524.000000</td>\n",
       "      <td>2524.000000</td>\n",
       "      <td>2.524000e+03</td>\n",
       "      <td>2524.000000</td>\n",
       "      <td>2.524000e+03</td>\n",
       "      <td>2524.000000</td>\n",
       "      <td>2524.000000</td>\n",
       "      <td>2524.000000</td>\n",
       "      <td>2.524000e+03</td>\n",
       "      <td>2.524000e+03</td>\n",
       "      <td>2.524000e+03</td>\n",
       "      <td>2.524000e+03</td>\n",
       "      <td>2524.000000</td>\n",
       "    </tr>\n",
       "    <tr>\n",
       "      <th>mean</th>\n",
       "      <td>1911.500000</td>\n",
       "      <td>382.965890</td>\n",
       "      <td>1831.757528</td>\n",
       "      <td>2402.230983</td>\n",
       "      <td>6.475031e+05</td>\n",
       "      <td>2570.895404</td>\n",
       "      <td>5.096205e+08</td>\n",
       "      <td>40.108558</td>\n",
       "      <td>1492.887876</td>\n",
       "      <td>34836.411252</td>\n",
       "      <td>1.347019e+06</td>\n",
       "      <td>1.166574e+09</td>\n",
       "      <td>1.343500e+06</td>\n",
       "      <td>2.609697e+07</td>\n",
       "      <td>0.437385</td>\n",
       "    </tr>\n",
       "    <tr>\n",
       "      <th>std</th>\n",
       "      <td>728.760363</td>\n",
       "      <td>145.889608</td>\n",
       "      <td>830.001941</td>\n",
       "      <td>1344.929647</td>\n",
       "      <td>1.474492e+05</td>\n",
       "      <td>2629.690466</td>\n",
       "      <td>5.926741e+06</td>\n",
       "      <td>80.231784</td>\n",
       "      <td>1758.906603</td>\n",
       "      <td>14977.700127</td>\n",
       "      <td>2.893814e+05</td>\n",
       "      <td>3.856913e+07</td>\n",
       "      <td>2.952155e+05</td>\n",
       "      <td>1.086225e+06</td>\n",
       "      <td>0.017412</td>\n",
       "    </tr>\n",
       "    <tr>\n",
       "      <th>min</th>\n",
       "      <td>650.000000</td>\n",
       "      <td>130.428189</td>\n",
       "      <td>747.000000</td>\n",
       "      <td>21.000000</td>\n",
       "      <td>3.648270e+05</td>\n",
       "      <td>132.000000</td>\n",
       "      <td>3.137747e+08</td>\n",
       "      <td>0.000000</td>\n",
       "      <td>25.000000</td>\n",
       "      <td>3872.000000</td>\n",
       "      <td>4.561760e+05</td>\n",
       "      <td>5.895057e+08</td>\n",
       "      <td>4.589430e+05</td>\n",
       "      <td>1.650723e+07</td>\n",
       "      <td>0.416555</td>\n",
       "    </tr>\n",
       "    <tr>\n",
       "      <th>25%</th>\n",
       "      <td>1280.750000</td>\n",
       "      <td>256.697114</td>\n",
       "      <td>1324.750000</td>\n",
       "      <td>1300.250000</td>\n",
       "      <td>5.959635e+05</td>\n",
       "      <td>1203.000000</td>\n",
       "      <td>5.095562e+08</td>\n",
       "      <td>2.000000</td>\n",
       "      <td>624.250000</td>\n",
       "      <td>21824.750000</td>\n",
       "      <td>1.095388e+06</td>\n",
       "      <td>1.153273e+09</td>\n",
       "      <td>1.086317e+06</td>\n",
       "      <td>2.547009e+07</td>\n",
       "      <td>0.429649</td>\n",
       "    </tr>\n",
       "    <tr>\n",
       "      <th>50%</th>\n",
       "      <td>1911.500000</td>\n",
       "      <td>382.967400</td>\n",
       "      <td>1641.000000</td>\n",
       "      <td>2286.000000</td>\n",
       "      <td>6.378385e+05</td>\n",
       "      <td>1794.500000</td>\n",
       "      <td>5.105492e+08</td>\n",
       "      <td>11.000000</td>\n",
       "      <td>1028.500000</td>\n",
       "      <td>35021.000000</td>\n",
       "      <td>1.375248e+06</td>\n",
       "      <td>1.168439e+09</td>\n",
       "      <td>1.364836e+06</td>\n",
       "      <td>2.608770e+07</td>\n",
       "      <td>0.436630</td>\n",
       "    </tr>\n",
       "    <tr>\n",
       "      <th>75%</th>\n",
       "      <td>2542.250000</td>\n",
       "      <td>509.234988</td>\n",
       "      <td>2108.000000</td>\n",
       "      <td>3281.000000</td>\n",
       "      <td>6.824335e+05</td>\n",
       "      <td>3055.750000</td>\n",
       "      <td>5.112371e+08</td>\n",
       "      <td>50.000000</td>\n",
       "      <td>1705.500000</td>\n",
       "      <td>46088.500000</td>\n",
       "      <td>1.573232e+06</td>\n",
       "      <td>1.187484e+09</td>\n",
       "      <td>1.565327e+06</td>\n",
       "      <td>2.671060e+07</td>\n",
       "      <td>0.442341</td>\n",
       "    </tr>\n",
       "    <tr>\n",
       "      <th>max</th>\n",
       "      <td>3173.000000</td>\n",
       "      <td>635.429554</td>\n",
       "      <td>14502.000000</td>\n",
       "      <td>10151.000000</td>\n",
       "      <td>3.969466e+06</td>\n",
       "      <td>44098.000000</td>\n",
       "      <td>5.187905e+08</td>\n",
       "      <td>1608.000000</td>\n",
       "      <td>30860.000000</td>\n",
       "      <td>79989.000000</td>\n",
       "      <td>2.225561e+06</td>\n",
       "      <td>1.226959e+09</td>\n",
       "      <td>2.201087e+06</td>\n",
       "      <td>2.973460e+07</td>\n",
       "      <td>0.784720</td>\n",
       "    </tr>\n",
       "  </tbody>\n",
       "</table>\n",
       "</div>"
      ],
      "text/plain": [
       "             index         time  iTLB-load-misses  dTLB-store-misses  \\\n",
       "count  2524.000000  2524.000000       2524.000000        2524.000000   \n",
       "mean   1911.500000   382.965890       1831.757528        2402.230983   \n",
       "std     728.760363   145.889608        830.001941        1344.929647   \n",
       "min     650.000000   130.428189        747.000000          21.000000   \n",
       "25%    1280.750000   256.697114       1324.750000        1300.250000   \n",
       "50%    1911.500000   382.967400       1641.000000        2286.000000   \n",
       "75%    2542.250000   509.234988       2108.000000        3281.000000   \n",
       "max    3173.000000   635.429554      14502.000000       10151.000000   \n",
       "\n",
       "       L1-icache-load-misses  cache-misses:u  cpu-cycles:u  LLC-store-misses  \\\n",
       "count           2.524000e+03     2524.000000  2.524000e+03       2524.000000   \n",
       "mean            6.475031e+05     2570.895404  5.096205e+08         40.108558   \n",
       "std             1.474492e+05     2629.690466  5.926741e+06         80.231784   \n",
       "min             3.648270e+05      132.000000  3.137747e+08          0.000000   \n",
       "25%             5.959635e+05     1203.000000  5.095562e+08          2.000000   \n",
       "50%             6.378385e+05     1794.500000  5.105492e+08         11.000000   \n",
       "75%             6.824335e+05     3055.750000  5.112371e+08         50.000000   \n",
       "max             3.969466e+06    44098.000000  5.187905e+08       1608.000000   \n",
       "\n",
       "       LLC-load-misses  dTLB-load-misses  branch-misses:u  instructions:u  \\\n",
       "count      2524.000000       2524.000000     2.524000e+03    2.524000e+03   \n",
       "mean       1492.887876      34836.411252     1.347019e+06    1.166574e+09   \n",
       "std        1758.906603      14977.700127     2.893814e+05    3.856913e+07   \n",
       "min          25.000000       3872.000000     4.561760e+05    5.895057e+08   \n",
       "25%         624.250000      21824.750000     1.095388e+06    1.153273e+09   \n",
       "50%        1028.500000      35021.000000     1.375248e+06    1.168439e+09   \n",
       "75%        1705.500000      46088.500000     1.573232e+06    1.187484e+09   \n",
       "max       30860.000000      79989.000000     2.225561e+06    1.226959e+09   \n",
       "\n",
       "       branch-load-misses  L1-dcache-load-misses          cpi  \n",
       "count        2.524000e+03           2.524000e+03  2524.000000  \n",
       "mean         1.343500e+06           2.609697e+07     0.437385  \n",
       "std          2.952155e+05           1.086225e+06     0.017412  \n",
       "min          4.589430e+05           1.650723e+07     0.416555  \n",
       "25%          1.086317e+06           2.547009e+07     0.429649  \n",
       "50%          1.364836e+06           2.608770e+07     0.436630  \n",
       "75%          1.565327e+06           2.671060e+07     0.442341  \n",
       "max          2.201087e+06           2.973460e+07     0.784720  "
      ]
     },
     "execution_count": 8,
     "metadata": {},
     "output_type": "execute_result"
    }
   ],
   "source": [
    "dataset.describe()"
   ]
  },
  {
   "cell_type": "code",
   "execution_count": 9,
   "metadata": {},
   "outputs": [],
   "source": [
    "instructions = dataset['instructions:u'].values.reshape(-1,1) #extracting values of column instructions\n",
    "\n",
    "y=dataset['cpi']  #setting y as CPI\n",
    "# Create correlation matrix\n",
    "corr_matrix = dataset.corr().abs()\n",
    "\n",
    "# Select upper triangle of correlation matrix\n",
    "upper = corr_matrix.where(np.triu(np.ones(corr_matrix.shape), k=1).astype(bool))\n",
    "\n",
    "# Find features with correlation greater than 0.95\n",
    "to_drop = [column for column in upper.columns if any(upper[column] <= 0.00)]\n",
    "\n",
    "# Drop features ds = dataset.drop(to_drop, axis=1, inplace=True)\n",
    "X = dataset.drop(['cpi','cpu-cycles:u','instructions:u','index' ,'time','cache-misses:u'], axis = 1) #dropping all the other column which is not required\n",
    "\n",
    "X = np.divide(X, instructions)  #dividing each columns value with instruction count (so all values are between 0 and 1)\n",
    "#'LLC-store-misses','L1-icache-load-misses','l2_rqsts.all_demand_miss','dTLB-store-misses','l2_rqsts.code_rd_miss'"
   ]
  },
  {
   "cell_type": "code",
   "execution_count": 10,
   "metadata": {
    "scrolled": true
   },
   "outputs": [
    {
     "name": "stdout",
     "output_type": "stream",
     "text": [
      "[]\n"
     ]
    }
   ],
   "source": [
    "print(to_drop)\n",
    "#X.head()\n",
    "#print(sn.heatmap(dataset.corr()))\n",
    "#print(sn.heatmap(X.corr()))"
   ]
  },
  {
   "cell_type": "code",
   "execution_count": 11,
   "metadata": {},
   "outputs": [
    {
     "name": "stdout",
     "output_type": "stream",
     "text": [
      "AxesSubplot(0.125,0.125;0.62x0.755)\n"
     ]
    },
    {
     "data": {
      "image/png": "[encoded data removed]",
      "text/plain": [
       "<Figure size 432x288 with 2 Axes>"
      ]
     },
     "metadata": {
      "needs_background": "light"
     },
     "output_type": "display_data"
    }
   ],
   "source": [
    "print(sn.heatmap(X.corr()))"
   ]
  },
  {
   "cell_type": "code",
   "execution_count": 12,
   "metadata": {},
   "outputs": [
    {
     "name": "stdout",
     "output_type": "stream",
     "text": [
      "(2271, 9)\n",
      "(253, 9)\n"
     ]
    }
   ],
   "source": [
    "from sklearn.model_selection import train_test_split  # performing train test split so that we can train our model on training data and test the model on testing data\n",
    "X_train, X_test, y_train, y_test = train_test_split(X,y, test_size=0.1, random_state=0) #specifying how much should be train test split\n",
    "print(X_train.shape)\n",
    "print(X_test.shape)"
   ]
  },
  {
   "cell_type": "code",
   "execution_count": 13,
   "metadata": {},
   "outputs": [
    {
     "name": "stdout",
     "output_type": "stream",
     "text": [
      "                         Cofficient\n",
      "iTLB-load-misses         283.497935\n",
      "dTLB-store-misses        284.936636\n",
      "L1-icache-load-misses     50.585584\n",
      "LLC-store-misses       13379.692363\n",
      "LLC-load-misses         1018.124719\n",
      "dTLB-load-misses          39.998651\n",
      "branch-misses:u           10.982061\n",
      "branch-load-misses        11.760485\n",
      "L1-dcache-load-misses      1.597381\n",
      "\n",
      "Linear Intercept term:  0.34287319479029127\n",
      "\n",
      "RMSE:-  0.003982617209624809\n",
      "R-square:  0.9706770534430886\n",
      "Adjusted R-square:  0.9705720786940782\n",
      "F value : 9246.767080593007\n",
      "Pvalues : [0. 0. 0. 0. 0. 0. 0. 0. 0.]\n",
      "Sum of Residuals : -0.011503206214152295\n"
     ]
    }
   ],
   "source": [
    "from sklearn.linear_model import Lasso  # used Lasso model for prediction becuase our aim is to get non-negative co-efficient\n",
    "regressor = Lasso(alpha=0.00000000001,positive=True,max_iter=100) #setting parameter for Lasso difining alpha and setting how much max iter should be\n",
    "\n",
    "temp=regressor.fit(X_train,y_train)  \n",
    "\n",
    "coeff_df = pd.DataFrame(temp.coef_, X_train.columns, columns=['Cofficient']) # getting coefficient value with the name of column for which co-efficient is generated\n",
    "print(coeff_df)\n",
    "print()\n",
    "\n",
    "print('Linear Intercept term: ',temp.intercept_) # obtaining intercept term\n",
    "\n",
    "y_pred = regressor.predict(X_test)  # predicting the value of y(i.e. CPI) for testing data so that we can check how accurate our model is\n",
    "\n",
    "from sklearn.metrics import mean_squared_error, mean_absolute_error, r2_score\n",
    "from math import sqrt\n",
    "print()\n",
    "rmse = sqrt(mean_squared_error(y_test, y_pred))  # Computing value of Root Mean Square Error for testing data\n",
    "print(\"RMSE:- \",rmse)\n",
    "\n",
    "rsq = r2_score(y_test,y_pred) # Computing R-Squared for testing data\n",
    "print('R-square: ',rsq)\n",
    "\n",
    "rad=1-(((1-rsq)*(len(y)-1))/(len(y)-1-X.shape[1])) # Computing Adjusted R-Squared for testing data\n",
    "print('Adjusted R-square: ', rad)\n",
    "\n",
    "F=(rsq/(1-rsq))*((len(y)-1-X.shape[1])/X.shape[1]) # Computing F-value for testing data\n",
    "print('F value :',F)\n",
    "\n",
    "print(\"Pvalues :\",ttest_ind(X, y).pvalue) # Finding p-value\n",
    "\n",
    "res=y_test-y_pred  # Getting vale of all the residuals\n",
    "print('Sum of Residuals :', sum(res))\n"
   ]
  },
  {
   "cell_type": "code",
   "execution_count": 14,
   "metadata": {},
   "outputs": [
    {
     "name": "stdout",
     "output_type": "stream",
     "text": [
      "iTLB-load-misses 0.00044514938486849866\n",
      "dTLB-store-misses 0.0005867470957628697\n",
      "L1-icache-load-misses 0.02807737341447078\n",
      "LLC-store-misses 0.00046001401863663815\n",
      "LLC-load-misses 0.0013029149435546728\n",
      "dTLB-load-misses 0.0011944463561291228\n",
      "branch-misses:u 0.01268076501740013\n",
      "branch-load-misses 0.013544118583425212\n",
      "L1-dcache-load-misses 0.03573438876570991\n",
      "Base CPI is--             0.34287319479029127\n",
      "Misses CPI is--             0.09402591757995783\n",
      "CPI we got is--             0.4368991123702491\n",
      "Average CPI is--             0.43738549069378896\n"
     ]
    }
   ],
   "source": [
    "mean_instruction = dataset['instructions:u'].values.mean()  # Computing mean of total instruction\n",
    "mean_cpi = dataset['cpi'].values.mean() # Computing mean of CPI \n",
    "\n",
    "#Extracting values of all the co-efficient for calculation and storing them in specific variable\n",
    "C1=temp.coef_[0]\n",
    "C2=temp.coef_[1]\n",
    "C3=temp.coef_[2]\n",
    "C4=temp.coef_[3]\n",
    "C5=temp.coef_[4]\n",
    "C6=temp.coef_[5]\n",
    "C7=temp.coef_[6]\n",
    "C8=temp.coef_[7]\n",
    "C9=temp.coef_[8]\n",
    "\n",
    "# getting name in coefficient array so that we can check which value is for which array\n",
    "index = coeff_df.index\n",
    "a_list = list(index)\n",
    "\n",
    "# Computing CPI for all the miss event for developing the CPI stack\n",
    "mean_C1 = dataset[a_list[0]].values.mean()  # in order to get the CPI  obtained mean of count of specific column\n",
    "cpi_of_c1=C1*(mean_C1/mean_instruction) # For getting value between 0 and 1 we have divided each column with count of inst so here again we are dividing with count of instructions\n",
    "print(a_list[0],cpi_of_c1)  # printing the name of miss event and value of CPI corresponding to the miss event\n",
    "\n",
    "# same above three steps are continued for all the events\n",
    "mean_C2 = dataset[a_list[1]].values.mean()\n",
    "cpi_of_c2=C2*(mean_C2/mean_instruction)\n",
    "print(a_list[1],cpi_of_c2)\n",
    "\n",
    "mean_C3 = dataset[a_list[2]].values.mean()\n",
    "cpi_of_c3=C3*(mean_C3/mean_instruction)\n",
    "print(a_list[2],cpi_of_c3)\n",
    "\n",
    "mean_C4 = dataset[a_list[3]].values.mean()\n",
    "cpi_of_c4=C4*(mean_C4/mean_instruction)\n",
    "print(a_list[3],cpi_of_c4)\n",
    "\n",
    "mean_C5 = dataset[a_list[4]].values.mean()\n",
    "cpi_of_c5=C5*(mean_C5/mean_instruction)\n",
    "print(a_list[4],cpi_of_c5)\n",
    "\n",
    "mean_C6 = dataset[a_list[5]].values.mean()\n",
    "cpi_of_c6=C6*(mean_C6/mean_instruction)\n",
    "print(a_list[5],cpi_of_c6)\n",
    "\n",
    "mean_C7 = dataset[a_list[6]].values.mean()\n",
    "cpi_of_c7=C7*(mean_C7/mean_instruction)\n",
    "print(a_list[6],cpi_of_c7)\n",
    "\n",
    "mean_C8 = dataset[a_list[7]].values.mean()\n",
    "cpi_of_c8=C8*(mean_C8/mean_instruction)\n",
    "print(a_list[7],cpi_of_c8)\n",
    "\n",
    "mean_C9 = dataset[a_list[8]].values.mean()\n",
    "cpi_of_c9=C9*(mean_C9/mean_instruction)\n",
    "print(a_list[8],cpi_of_c9)\n",
    "\n",
    "\n",
    "\n",
    "Base_cpi=temp.intercept_  # intercept will give the value of base CPI and for building the stack we will need base CPI\n",
    "print('Base CPI is--            ',Base_cpi)\n",
    "\n",
    "misses_cpi=cpi_of_c1+cpi_of_c2+cpi_of_c3+cpi_of_c4+cpi_of_c5+cpi_of_c6+cpi_of_c7+cpi_of_c8 +cpi_of_c9# Finding CPI contribution due to all the misses\n",
    "print('Misses CPI is--            ',misses_cpi)\n",
    "\n",
    "print('CPI we got is--            ',Base_cpi+misses_cpi) # what is the average CPI we got by our calculation\n",
    "\n",
    "print('Average CPI is--            ',mean_cpi) # what is the actual average CPI for the benchmark"
   ]
  },
  {
   "cell_type": "code",
   "execution_count": 15,
   "metadata": {},
   "outputs": [
    {
     "data": {
      "image/png": "[encoded data removed]",
      "text/plain": [
       "<Figure size 432x288 with 1 Axes>"
      ]
     },
     "metadata": {
      "needs_background": "light"
     },
     "output_type": "display_data"
    }
   ],
   "source": [
    "#creating the array of all the values of CPI of all the miss event so that we can directly get value byindexing also appended base CPI\n",
    "array_of_cpi=[cpi_of_c1,cpi_of_c2,cpi_of_c3,cpi_of_c4,cpi_of_c5,cpi_of_c6,cpi_of_c7,cpi_of_c8,cpi_of_c9,Base_cpi]\n",
    "\n",
    "label_of_cpi=[]  # this array will store the name of all the miss event we have \n",
    "for i in range(0,8):\n",
    "    label_of_cpi.append(a_list[i])\n",
    "label_of_cpi.append('Base CPI') # we also add base cpi in the array becuase this will be the base of stack\n",
    "\n",
    "sum_prev_cpi=0 # for building the stck we will need CPI in the format of sum because if we are moving up in the bar graph than our value is increasing by that number\n",
    "\n",
    "for i in range(8,-1,-1):  # getting the sum to build stack (Here base cpi is not used becuase we not need to do any sumation for base CPI becuse that will be base of stack)\n",
    "    array_of_cpi[i]=array_of_cpi[i]+sum_prev_cpi\n",
    "    sum_prev_cpi=array_of_cpi[i]\n",
    "    \n",
    "width = 0.35        # width of the bar\n",
    "\n",
    "fig, ax = plt.subplots() # generating the CPI stack\n",
    "for i in range(0,9):\n",
    "    ax.bar( width,array_of_cpi[i],  label=label_of_cpi[i])\n",
    "    \n",
    "ax.set_ylabel('CPI')  # y axis is labled as CPI\n",
    "ax.set_title('CPI Stack')\n",
    "ax.legend()\n",
    "\n",
    "plt.tick_params(\n",
    "    axis='x',          # changes apply to the x-axis\n",
    "    which='both',      # both major and minor ticks are affected\n",
    "    bottom=False,      # ticks along the bottom edge are off\n",
    "    top=False,         # ticks along the top edge are off\n",
    "    labelbottom=False) # labels along the bottom edge are off\n",
    "plt.show()"
   ]
  },
  {
   "cell_type": "code",
   "execution_count": 16,
   "metadata": {},
   "outputs": [
    {
     "data": {
      "image/png": "[encoded data removed]",
      "text/plain": [
       "<Figure size 432x288 with 1 Axes>"
      ]
     },
     "metadata": {
      "needs_background": "light"
     },
     "output_type": "display_data"
    }
   ],
   "source": [
    "# For better visulation of the miss event we have built this bar graph so that we can compare all the miss event \n",
    "# including the base CPI (By comapring the length of bar we can analyze that which event is contributing how much\n",
    "# to the CPI)\n",
    "\n",
    "r=[cpi_of_c1,cpi_of_c2,cpi_of_c3,cpi_of_c4,cpi_of_c5,cpi_of_c6,cpi_of_c7,cpi_of_c8,cpi_of_c9,Base_cpi]\n",
    "s = np.array([int((x - min(r))/(max(r) - min(r)) * 10) for x in r])\n",
    "\n",
    "plt.bar(np.arange(len(s)), s)\n",
    "plt.show()"
   ]
  },
  {
   "cell_type": "code",
   "execution_count": 17,
   "metadata": {},
   "outputs": [
    {
     "data": {
      "image/png": "[encoded data removed]",
      "text/plain": [
       "<Figure size 432x288 with 1 Axes>"
      ]
     },
     "metadata": {
      "needs_background": "light"
     },
     "output_type": "display_data"
    }
   ],
   "source": [
    "# we have plotted our prediction\n",
    "# here y axis is predicted value and x axis is actual value \n",
    "import matplotlib.pyplot as plt\n",
    "plt.scatter(y_test,y_pred)\n",
    "plt.xlabel(\"Actual : \")\n",
    "plt.ylabel(\"Predicted : \")\n",
    "plt.title(\"Predicted  vs Actual: For Lasso\")\n",
    "plt.show()"
   ]
  },
  {
   "cell_type": "code",
   "execution_count": 18,
   "metadata": {},
   "outputs": [],
   "source": [
    "# Note:- Code below for here is just for checking not used in assignment report or anywhere else \n",
    "# All the code below from this point is for Linear regression we have just used this to check that what is the \n",
    "# difference we got between the Linear regression model and lasso model \n",
    "\n",
    "\n",
    "from sklearn.linear_model import LinearRegression\n",
    "regressor_linear = LinearRegression()\n",
    "# temp=regressor.fit(X_train, y_train)\n",
    "temp=regressor_linear.fit(X_train, y_train)\n",
    "y_pred_linear = regressor_linear.predict(X_test)\n"
   ]
  },
  {
   "cell_type": "code",
   "execution_count": 19,
   "metadata": {},
   "outputs": [
    {
     "name": "stdout",
     "output_type": "stream",
     "text": [
      "Linear Intercept term:  0.3433580876615788\n",
      "Linear Coefficients: \n",
      " [2.90966820e+02 2.86456293e+02 5.02697390e+01 1.64439173e+04\n",
      " 9.19922995e+02 4.26820912e+01 1.10760257e+01 1.16729370e+01\n",
      " 1.57980840e+00]\n"
     ]
    }
   ],
   "source": [
    "print('Linear Intercept term: ',temp.intercept_) # This gives us the intercept term\n",
    "print('Linear Coefficients: \\n',temp.coef_) \n",
    "# print(temp.coef_)\n",
    "\n"
   ]
  },
  {
   "cell_type": "code",
   "execution_count": 20,
   "metadata": {},
   "outputs": [
    {
     "data": {
      "image/png": "[encoded data removed]",
      "text/plain": [
       "<Figure size 432x288 with 1 Axes>"
      ]
     },
     "metadata": {
      "needs_background": "light"
     },
     "output_type": "display_data"
    }
   ],
   "source": [
    "import matplotlib.pyplot as plt\n",
    "plt.scatter(y_test,y_pred_linear)\n",
    "plt.xlabel(\"Actual : $Y_i$\")\n",
    "plt.ylabel(\"Predicted : $\\hat{Y}_i$\")\n",
    "plt.title(\"Predicted  vs Actual: For Linear Regression\")\n",
    "plt.show()\n",
    "# print(y_pred_linear)\n",
    "# print(y_pred)"
   ]
  },
  {
   "cell_type": "code",
   "execution_count": null,
   "metadata": {},
   "outputs": [],
   "source": []
  },
  {
   "cell_type": "code",
   "execution_count": null,
   "metadata": {},
   "outputs": [],
   "source": []
  },
  {
   "cell_type": "code",
   "execution_count": null,
   "metadata": {},
   "outputs": [],
   "source": []
  }
 ],
 "metadata": {
  "kernelspec": {
   "display_name": "Python 3",
   "language": "python",
   "name": "python3"
  },
  "language_info": {
   "codemirror_mode": {
    "name": "ipython",
    "version": 3
   },
   "file_extension": ".py",
   "mimetype": "text/x-python",
   "name": "python",
   "nbconvert_exporter": "python",
   "pygments_lexer": "ipython3",
   "version": "3.7.6"
  }
 },
 "nbformat": 4,
 "nbformat_minor": 4
}
