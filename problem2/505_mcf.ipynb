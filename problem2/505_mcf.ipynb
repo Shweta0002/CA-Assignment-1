{
 "cells": [
  {
   "cell_type": "code",
   "execution_count": 6,
   "metadata": {},
   "outputs": [],
   "source": [
    "import numpy as np\n",
    "import pandas as pd\n",
    "import seaborn as sn\n",
    "import sklearn \n",
    "import matplotlib.pyplot as plt\n",
    "from scipy.stats import ttest_ind"
   ]
  },
  {
   "cell_type": "code",
   "execution_count": 7,
   "metadata": {},
   "outputs": [],
   "source": [
    "dataset = pd.read_csv(\"505_DATAPOINTS.csv\")\n",
    "dataset= dataset.iloc[650:]\n",
    "dataset = dataset.iloc[:-200]"
   ]
  },
  {
   "cell_type": "code",
   "execution_count": 8,
   "metadata": {},
   "outputs": [
    {
     "data": {
      "text/html": [
       "<div>\n",
       "<style scoped>\n",
       "    .dataframe tbody tr th:only-of-type {\n",
       "        vertical-align: middle;\n",
       "    }\n",
       "\n",
       "    .dataframe tbody tr th {\n",
       "        vertical-align: top;\n",
       "    }\n",
       "\n",
       "    .dataframe thead th {\n",
       "        text-align: right;\n",
       "    }\n",
       "</style>\n",
       "<table border=\"1\" class=\"dataframe\">\n",
       "  <thead>\n",
       "    <tr style=\"text-align: right;\">\n",
       "      <th></th>\n",
       "      <th>time</th>\n",
       "      <th>cycles</th>\n",
       "      <th>instructions</th>\n",
       "      <th>branch-misses</th>\n",
       "      <th>cache-misses</th>\n",
       "      <th>L1-dcache-load-misses</th>\n",
       "      <th>L1-icache-load-misses</th>\n",
       "      <th>LLC-load-misses</th>\n",
       "      <th>LLC-store-misses</th>\n",
       "      <th>branch-load-misses</th>\n",
       "      <th>dTLB-load-misses</th>\n",
       "      <th>dTLB-store-misses</th>\n",
       "      <th>iTLB-load-misses</th>\n",
       "      <th>l2_rqsts.code_rd_miss</th>\n",
       "      <th>l2_rqsts.demand_data_rd_miss</th>\n",
       "      <th>l2_rqsts.all_demand_miss</th>\n",
       "      <th>CPI</th>\n",
       "    </tr>\n",
       "  </thead>\n",
       "  <tbody>\n",
       "    <tr>\n",
       "      <th>650</th>\n",
       "      <td>196.179325</td>\n",
       "      <td>1339330646</td>\n",
       "      <td>1564960461</td>\n",
       "      <td>11452043</td>\n",
       "      <td>19803716</td>\n",
       "      <td>82708026</td>\n",
       "      <td>63872</td>\n",
       "      <td>6269223</td>\n",
       "      <td>397993</td>\n",
       "      <td>11735130</td>\n",
       "      <td>382623</td>\n",
       "      <td>148995</td>\n",
       "      <td>1585</td>\n",
       "      <td>22456</td>\n",
       "      <td>9208410</td>\n",
       "      <td>9489732</td>\n",
       "      <td>0.855824</td>\n",
       "    </tr>\n",
       "    <tr>\n",
       "      <th>651</th>\n",
       "      <td>196.479771</td>\n",
       "      <td>1340868645</td>\n",
       "      <td>1770944828</td>\n",
       "      <td>12605418</td>\n",
       "      <td>16677671</td>\n",
       "      <td>117061033</td>\n",
       "      <td>64457</td>\n",
       "      <td>6956207</td>\n",
       "      <td>831209</td>\n",
       "      <td>12610823</td>\n",
       "      <td>321161</td>\n",
       "      <td>150661</td>\n",
       "      <td>1480</td>\n",
       "      <td>29951</td>\n",
       "      <td>11235127</td>\n",
       "      <td>11444913</td>\n",
       "      <td>0.757149</td>\n",
       "    </tr>\n",
       "    <tr>\n",
       "      <th>652</th>\n",
       "      <td>196.780262</td>\n",
       "      <td>1335218370</td>\n",
       "      <td>1227937754</td>\n",
       "      <td>8871690</td>\n",
       "      <td>29148399</td>\n",
       "      <td>114285029</td>\n",
       "      <td>58618</td>\n",
       "      <td>11775626</td>\n",
       "      <td>789005</td>\n",
       "      <td>9194463</td>\n",
       "      <td>511480</td>\n",
       "      <td>212394</td>\n",
       "      <td>1852</td>\n",
       "      <td>33404</td>\n",
       "      <td>12279390</td>\n",
       "      <td>12703080</td>\n",
       "      <td>1.087366</td>\n",
       "    </tr>\n",
       "    <tr>\n",
       "      <th>653</th>\n",
       "      <td>197.080670</td>\n",
       "      <td>1333627834</td>\n",
       "      <td>860549471</td>\n",
       "      <td>12965492</td>\n",
       "      <td>35725134</td>\n",
       "      <td>51995788</td>\n",
       "      <td>61547</td>\n",
       "      <td>15283927</td>\n",
       "      <td>1867</td>\n",
       "      <td>14380096</td>\n",
       "      <td>3749310</td>\n",
       "      <td>10956</td>\n",
       "      <td>1127</td>\n",
       "      <td>34046</td>\n",
       "      <td>16004525</td>\n",
       "      <td>14982864</td>\n",
       "      <td>1.549740</td>\n",
       "    </tr>\n",
       "    <tr>\n",
       "      <th>654</th>\n",
       "      <td>197.381115</td>\n",
       "      <td>1342991494</td>\n",
       "      <td>880104647</td>\n",
       "      <td>14575751</td>\n",
       "      <td>30309609</td>\n",
       "      <td>40281827</td>\n",
       "      <td>66649</td>\n",
       "      <td>10038979</td>\n",
       "      <td>2157</td>\n",
       "      <td>13928467</td>\n",
       "      <td>4503265</td>\n",
       "      <td>1837</td>\n",
       "      <td>1503</td>\n",
       "      <td>42362</td>\n",
       "      <td>16791479</td>\n",
       "      <td>15647138</td>\n",
       "      <td>1.525945</td>\n",
       "    </tr>\n",
       "  </tbody>\n",
       "</table>\n",
       "</div>"
      ],
      "text/plain": [
       "           time      cycles  instructions  branch-misses  cache-misses  \\\n",
       "650  196.179325  1339330646    1564960461       11452043      19803716   \n",
       "651  196.479771  1340868645    1770944828       12605418      16677671   \n",
       "652  196.780262  1335218370    1227937754        8871690      29148399   \n",
       "653  197.080670  1333627834     860549471       12965492      35725134   \n",
       "654  197.381115  1342991494     880104647       14575751      30309609   \n",
       "\n",
       "     L1-dcache-load-misses  L1-icache-load-misses  LLC-load-misses  \\\n",
       "650               82708026                  63872          6269223   \n",
       "651              117061033                  64457          6956207   \n",
       "652              114285029                  58618         11775626   \n",
       "653               51995788                  61547         15283927   \n",
       "654               40281827                  66649         10038979   \n",
       "\n",
       "     LLC-store-misses  branch-load-misses  dTLB-load-misses  \\\n",
       "650            397993            11735130            382623   \n",
       "651            831209            12610823            321161   \n",
       "652            789005             9194463            511480   \n",
       "653              1867            14380096           3749310   \n",
       "654              2157            13928467           4503265   \n",
       "\n",
       "     dTLB-store-misses  iTLB-load-misses  l2_rqsts.code_rd_miss  \\\n",
       "650             148995              1585                  22456   \n",
       "651             150661              1480                  29951   \n",
       "652             212394              1852                  33404   \n",
       "653              10956              1127                  34046   \n",
       "654               1837              1503                  42362   \n",
       "\n",
       "     l2_rqsts.demand_data_rd_miss  l2_rqsts.all_demand_miss       CPI  \n",
       "650                       9208410                   9489732  0.855824  \n",
       "651                      11235127                  11444913  0.757149  \n",
       "652                      12279390                  12703080  1.087366  \n",
       "653                      16004525                  14982864  1.549740  \n",
       "654                      16791479                  15647138  1.525945  "
      ]
     },
     "execution_count": 8,
     "metadata": {},
     "output_type": "execute_result"
    }
   ],
   "source": [
    "dataset.head()"
   ]
  },
  {
   "cell_type": "code",
   "execution_count": 9,
   "metadata": {},
   "outputs": [
    {
     "data": {
      "text/html": [
       "<div>\n",
       "<style scoped>\n",
       "    .dataframe tbody tr th:only-of-type {\n",
       "        vertical-align: middle;\n",
       "    }\n",
       "\n",
       "    .dataframe tbody tr th {\n",
       "        vertical-align: top;\n",
       "    }\n",
       "\n",
       "    .dataframe thead th {\n",
       "        text-align: right;\n",
       "    }\n",
       "</style>\n",
       "<table border=\"1\" class=\"dataframe\">\n",
       "  <thead>\n",
       "    <tr style=\"text-align: right;\">\n",
       "      <th></th>\n",
       "      <th>time</th>\n",
       "      <th>cycles</th>\n",
       "      <th>instructions</th>\n",
       "      <th>branch-misses</th>\n",
       "      <th>cache-misses</th>\n",
       "      <th>L1-dcache-load-misses</th>\n",
       "      <th>L1-icache-load-misses</th>\n",
       "      <th>LLC-load-misses</th>\n",
       "      <th>LLC-store-misses</th>\n",
       "      <th>branch-load-misses</th>\n",
       "      <th>dTLB-load-misses</th>\n",
       "      <th>dTLB-store-misses</th>\n",
       "      <th>iTLB-load-misses</th>\n",
       "      <th>l2_rqsts.code_rd_miss</th>\n",
       "      <th>l2_rqsts.demand_data_rd_miss</th>\n",
       "      <th>l2_rqsts.all_demand_miss</th>\n",
       "      <th>CPI</th>\n",
       "    </tr>\n",
       "  </thead>\n",
       "  <tbody>\n",
       "    <tr>\n",
       "      <th>count</th>\n",
       "      <td>1071.000000</td>\n",
       "      <td>1.071000e+03</td>\n",
       "      <td>1.071000e+03</td>\n",
       "      <td>1.071000e+03</td>\n",
       "      <td>1.071000e+03</td>\n",
       "      <td>1.071000e+03</td>\n",
       "      <td>1.071000e+03</td>\n",
       "      <td>1.071000e+03</td>\n",
       "      <td>1.071000e+03</td>\n",
       "      <td>1.071000e+03</td>\n",
       "      <td>1.071000e+03</td>\n",
       "      <td>1.071000e+03</td>\n",
       "      <td>1071.000000</td>\n",
       "      <td>1.071000e+03</td>\n",
       "      <td>1.071000e+03</td>\n",
       "      <td>1.071000e+03</td>\n",
       "      <td>1071.000000</td>\n",
       "    </tr>\n",
       "    <tr>\n",
       "      <th>mean</th>\n",
       "      <td>356.918715</td>\n",
       "      <td>1.342355e+09</td>\n",
       "      <td>1.184115e+09</td>\n",
       "      <td>1.634136e+07</td>\n",
       "      <td>2.089248e+07</td>\n",
       "      <td>7.094051e+07</td>\n",
       "      <td>1.571845e+05</td>\n",
       "      <td>7.631910e+06</td>\n",
       "      <td>5.153646e+05</td>\n",
       "      <td>1.632488e+07</td>\n",
       "      <td>6.565209e+05</td>\n",
       "      <td>2.133267e+05</td>\n",
       "      <td>1649.031746</td>\n",
       "      <td>6.504439e+04</td>\n",
       "      <td>1.602151e+07</td>\n",
       "      <td>1.712794e+07</td>\n",
       "      <td>1.182744</td>\n",
       "    </tr>\n",
       "    <tr>\n",
       "      <th>std</th>\n",
       "      <td>92.939514</td>\n",
       "      <td>4.018055e+07</td>\n",
       "      <td>2.581506e+08</td>\n",
       "      <td>6.682458e+06</td>\n",
       "      <td>1.343559e+07</td>\n",
       "      <td>3.779005e+07</td>\n",
       "      <td>1.544779e+06</td>\n",
       "      <td>7.773009e+06</td>\n",
       "      <td>1.492444e+06</td>\n",
       "      <td>6.690824e+06</td>\n",
       "      <td>1.412301e+06</td>\n",
       "      <td>7.389121e+05</td>\n",
       "      <td>1856.297572</td>\n",
       "      <td>1.774700e+05</td>\n",
       "      <td>8.186476e+06</td>\n",
       "      <td>8.043984e+06</td>\n",
       "      <td>0.249300</td>\n",
       "    </tr>\n",
       "    <tr>\n",
       "      <th>min</th>\n",
       "      <td>196.179325</td>\n",
       "      <td>6.802146e+08</td>\n",
       "      <td>5.221102e+08</td>\n",
       "      <td>1.263720e+05</td>\n",
       "      <td>4.261570e+05</td>\n",
       "      <td>8.340925e+06</td>\n",
       "      <td>1.921800e+04</td>\n",
       "      <td>2.424400e+04</td>\n",
       "      <td>7.520000e+02</td>\n",
       "      <td>8.031500e+04</td>\n",
       "      <td>2.754000e+03</td>\n",
       "      <td>3.580000e+02</td>\n",
       "      <td>267.000000</td>\n",
       "      <td>1.681700e+04</td>\n",
       "      <td>8.717810e+05</td>\n",
       "      <td>4.979259e+06</td>\n",
       "      <td>0.525561</td>\n",
       "    </tr>\n",
       "    <tr>\n",
       "      <th>25%</th>\n",
       "      <td>276.540817</td>\n",
       "      <td>1.335620e+09</td>\n",
       "      <td>1.071171e+09</td>\n",
       "      <td>1.029314e+07</td>\n",
       "      <td>1.011902e+07</td>\n",
       "      <td>4.560881e+07</td>\n",
       "      <td>3.952150e+04</td>\n",
       "      <td>2.268064e+06</td>\n",
       "      <td>3.808000e+03</td>\n",
       "      <td>1.032913e+07</td>\n",
       "      <td>9.044100e+04</td>\n",
       "      <td>2.847500e+03</td>\n",
       "      <td>815.500000</td>\n",
       "      <td>2.766250e+04</td>\n",
       "      <td>1.106162e+07</td>\n",
       "      <td>1.222952e+07</td>\n",
       "      <td>1.063241</td>\n",
       "    </tr>\n",
       "    <tr>\n",
       "      <th>50%</th>\n",
       "      <td>356.918067</td>\n",
       "      <td>1.343121e+09</td>\n",
       "      <td>1.144102e+09</td>\n",
       "      <td>1.745431e+07</td>\n",
       "      <td>1.831660e+07</td>\n",
       "      <td>5.442825e+07</td>\n",
       "      <td>8.231100e+04</td>\n",
       "      <td>4.962779e+06</td>\n",
       "      <td>5.656000e+03</td>\n",
       "      <td>1.760754e+07</td>\n",
       "      <td>1.375540e+05</td>\n",
       "      <td>4.602000e+03</td>\n",
       "      <td>1560.000000</td>\n",
       "      <td>5.729200e+04</td>\n",
       "      <td>1.317287e+07</td>\n",
       "      <td>1.456559e+07</td>\n",
       "      <td>1.180150</td>\n",
       "    </tr>\n",
       "    <tr>\n",
       "      <th>75%</th>\n",
       "      <td>437.296993</td>\n",
       "      <td>1.356265e+09</td>\n",
       "      <td>1.262606e+09</td>\n",
       "      <td>2.291515e+07</td>\n",
       "      <td>2.836725e+07</td>\n",
       "      <td>8.485223e+07</td>\n",
       "      <td>1.270055e+05</td>\n",
       "      <td>1.001844e+07</td>\n",
       "      <td>2.664935e+05</td>\n",
       "      <td>2.291138e+07</td>\n",
       "      <td>4.463425e+05</td>\n",
       "      <td>1.183140e+05</td>\n",
       "      <td>2123.000000</td>\n",
       "      <td>7.557400e+04</td>\n",
       "      <td>1.790194e+07</td>\n",
       "      <td>1.901154e+07</td>\n",
       "      <td>1.246423</td>\n",
       "    </tr>\n",
       "    <tr>\n",
       "      <th>max</th>\n",
       "      <td>517.673150</td>\n",
       "      <td>1.428287e+09</td>\n",
       "      <td>2.538551e+09</td>\n",
       "      <td>2.598343e+07</td>\n",
       "      <td>6.946621e+07</td>\n",
       "      <td>2.596293e+08</td>\n",
       "      <td>3.585972e+07</td>\n",
       "      <td>4.142643e+07</td>\n",
       "      <td>1.042994e+07</td>\n",
       "      <td>2.579375e+07</td>\n",
       "      <td>9.360156e+06</td>\n",
       "      <td>6.172711e+06</td>\n",
       "      <td>46902.000000</td>\n",
       "      <td>4.596802e+06</td>\n",
       "      <td>5.546010e+07</td>\n",
       "      <td>5.483737e+07</td>\n",
       "      <td>2.542541</td>\n",
       "    </tr>\n",
       "  </tbody>\n",
       "</table>\n",
       "</div>"
      ],
      "text/plain": [
       "              time        cycles  instructions  branch-misses  cache-misses  \\\n",
       "count  1071.000000  1.071000e+03  1.071000e+03   1.071000e+03  1.071000e+03   \n",
       "mean    356.918715  1.342355e+09  1.184115e+09   1.634136e+07  2.089248e+07   \n",
       "std      92.939514  4.018055e+07  2.581506e+08   6.682458e+06  1.343559e+07   \n",
       "min     196.179325  6.802146e+08  5.221102e+08   1.263720e+05  4.261570e+05   \n",
       "25%     276.540817  1.335620e+09  1.071171e+09   1.029314e+07  1.011902e+07   \n",
       "50%     356.918067  1.343121e+09  1.144102e+09   1.745431e+07  1.831660e+07   \n",
       "75%     437.296993  1.356265e+09  1.262606e+09   2.291515e+07  2.836725e+07   \n",
       "max     517.673150  1.428287e+09  2.538551e+09   2.598343e+07  6.946621e+07   \n",
       "\n",
       "       L1-dcache-load-misses  L1-icache-load-misses  LLC-load-misses  \\\n",
       "count           1.071000e+03           1.071000e+03     1.071000e+03   \n",
       "mean            7.094051e+07           1.571845e+05     7.631910e+06   \n",
       "std             3.779005e+07           1.544779e+06     7.773009e+06   \n",
       "min             8.340925e+06           1.921800e+04     2.424400e+04   \n",
       "25%             4.560881e+07           3.952150e+04     2.268064e+06   \n",
       "50%             5.442825e+07           8.231100e+04     4.962779e+06   \n",
       "75%             8.485223e+07           1.270055e+05     1.001844e+07   \n",
       "max             2.596293e+08           3.585972e+07     4.142643e+07   \n",
       "\n",
       "       LLC-store-misses  branch-load-misses  dTLB-load-misses  \\\n",
       "count      1.071000e+03        1.071000e+03      1.071000e+03   \n",
       "mean       5.153646e+05        1.632488e+07      6.565209e+05   \n",
       "std        1.492444e+06        6.690824e+06      1.412301e+06   \n",
       "min        7.520000e+02        8.031500e+04      2.754000e+03   \n",
       "25%        3.808000e+03        1.032913e+07      9.044100e+04   \n",
       "50%        5.656000e+03        1.760754e+07      1.375540e+05   \n",
       "75%        2.664935e+05        2.291138e+07      4.463425e+05   \n",
       "max        1.042994e+07        2.579375e+07      9.360156e+06   \n",
       "\n",
       "       dTLB-store-misses  iTLB-load-misses  l2_rqsts.code_rd_miss  \\\n",
       "count       1.071000e+03       1071.000000           1.071000e+03   \n",
       "mean        2.133267e+05       1649.031746           6.504439e+04   \n",
       "std         7.389121e+05       1856.297572           1.774700e+05   \n",
       "min         3.580000e+02        267.000000           1.681700e+04   \n",
       "25%         2.847500e+03        815.500000           2.766250e+04   \n",
       "50%         4.602000e+03       1560.000000           5.729200e+04   \n",
       "75%         1.183140e+05       2123.000000           7.557400e+04   \n",
       "max         6.172711e+06      46902.000000           4.596802e+06   \n",
       "\n",
       "       l2_rqsts.demand_data_rd_miss  l2_rqsts.all_demand_miss          CPI  \n",
       "count                  1.071000e+03              1.071000e+03  1071.000000  \n",
       "mean                   1.602151e+07              1.712794e+07     1.182744  \n",
       "std                    8.186476e+06              8.043984e+06     0.249300  \n",
       "min                    8.717810e+05              4.979259e+06     0.525561  \n",
       "25%                    1.106162e+07              1.222952e+07     1.063241  \n",
       "50%                    1.317287e+07              1.456559e+07     1.180150  \n",
       "75%                    1.790194e+07              1.901154e+07     1.246423  \n",
       "max                    5.546010e+07              5.483737e+07     2.542541  "
      ]
     },
     "execution_count": 9,
     "metadata": {},
     "output_type": "execute_result"
    }
   ],
   "source": [
    "dataset.describe()"
   ]
  },
  {
   "cell_type": "code",
   "execution_count": 10,
   "metadata": {},
   "outputs": [
    {
     "name": "stdout",
     "output_type": "stream",
     "text": [
      "(1071,)\n"
     ]
    }
   ],
   "source": [
    "instruction = dataset['instructions']\n",
    "print(instruction.shape)"
   ]
  },
  {
   "cell_type": "code",
   "execution_count": 11,
   "metadata": {},
   "outputs": [
    {
     "name": "stdout",
     "output_type": "stream",
     "text": [
      "(1071, 1)\n"
     ]
    }
   ],
   "source": [
    "instructions = dataset['instructions'].values.reshape(-1,1) #extracting values of column instructions\n",
    "print(instructions.shape)\n",
    "y=dataset['CPI']  #setting y as CPI\n",
    "\n",
    "X = dataset.drop(['CPI','cycles','time','instructions' ,'LLC-load-misses', 'L1-icache-load-misses','branch-load-misses'  ,'l2_rqsts.code_rd_miss','l2_rqsts.demand_data_rd_miss','l2_rqsts.all_demand_miss'], axis = 1) #dropping all the other column which is not required\n",
    "X = np.divide(X, instructions)  #dividing each columns value with instruction count (so all values are between 0 and 1)\n",
    "#'LLC-store-misses','L1-icache-load-misses','l2_rqsts.all_demand_miss','dTLB-store-misses','l2_rqsts.code_rd_miss'"
   ]
  },
  {
   "cell_type": "code",
   "execution_count": 12,
   "metadata": {},
   "outputs": [
    {
     "name": "stdout",
     "output_type": "stream",
     "text": [
      "['branch-load-misses', 'l2_rqsts.code_rd_miss', 'l2_rqsts.all_demand_miss']\n"
     ]
    }
   ],
   "source": [
    "# Create correlation matrix\n",
    "corr_matrix = dataset.corr().abs()\n",
    "\n",
    "# Select upper triangle of correlation matrix\n",
    "upper = corr_matrix.where(np.triu(np.ones(corr_matrix.shape), k=1).astype(bool))\n",
    "\n",
    "# Find features with correlation greater than 0.95\n",
    "to_drop = [column for column in upper.columns if any(upper[column]>0.95)] \n",
    "print(to_drop)"
   ]
  },
  {
   "cell_type": "code",
   "execution_count": 13,
   "metadata": {},
   "outputs": [
    {
     "data": {
      "text/plain": [
       "<matplotlib.axes._subplots.AxesSubplot at 0x275871724c8>"
      ]
     },
     "execution_count": 13,
     "metadata": {},
     "output_type": "execute_result"
    },
    {
     "data": {
      "image/png": "[encoded data removed]",
      "text/plain": [
       "<Figure size 432x288 with 2 Axes>"
      ]
     },
     "metadata": {
      "needs_background": "light"
     },
     "output_type": "display_data"
    }
   ],
   "source": [
    "X.head()\n",
    "\n",
    "#print(dataset.corr())\n",
    "sn.heatmap(dataset.corr())\n",
    "#sn.heatmap(X.corr())"
   ]
  },
  {
   "cell_type": "code",
   "execution_count": 14,
   "metadata": {},
   "outputs": [
    {
     "name": "stdout",
     "output_type": "stream",
     "text": [
      "(963, 7)\n",
      "(108, 7)\n"
     ]
    }
   ],
   "source": [
    "from sklearn.model_selection import train_test_split  # performing train test split so that we can train our model on training data and test the model on testing data\n",
    "X_train, X_test, y_train, y_test = train_test_split(X,y, test_size=0.1, random_state=0) #specifying how much should be train test split\n",
    "print(X_train.shape)\n",
    "print(X_test.shape)"
   ]
  },
  {
   "cell_type": "code",
   "execution_count": 15,
   "metadata": {},
   "outputs": [
    {
     "name": "stdout",
     "output_type": "stream",
     "text": [
      "                        Cofficient\n",
      "branch-misses            27.047364\n",
      "cache-misses             10.425426\n",
      "L1-dcache-load-misses     1.018795\n",
      "LLC-store-misses         27.674949\n",
      "dTLB-load-misses         39.068311\n",
      "dTLB-store-misses        36.570213\n",
      "iTLB-load-misses       5533.052419\n",
      "\n",
      "Linear Intercept term:  0.4751256601196242\n",
      "\n",
      "RMSE:-  0.09669925312392798\n",
      "R-square:  0.8315337425626893\n",
      "Adjusted R-square:  0.8304243692775894\n",
      "F value : 749.5527012693678\n",
      "Pvalues : [0. 0. 0. 0. 0. 0. 0.]\n",
      "Sum of Residuals : 0.26104281672469887\n"
     ]
    },
    {
     "name": "stderr",
     "output_type": "stream",
     "text": [
      "c:\\users\\shweta\\appdata\\local\\programs\\python\\python37\\lib\\site-packages\\sklearn\\linear_model\\_coordinate_descent.py:531: ConvergenceWarning: Objective did not converge. You might want to increase the number of iterations. Duality gap: 3.7830320936700828, tolerance: 0.006047904712533825\n",
      "  positive)\n"
     ]
    }
   ],
   "source": [
    "from sklearn.linear_model import Lasso  # used Lasso model for prediction becuase our aim is to get non-negative co-efficient\n",
    "regressor = Lasso(alpha=0.00000000001,positive=True,max_iter=100) #setting parameter for Lasso difining alpha and setting how much max iter should be\n",
    "\n",
    "temp=regressor.fit(X_train,y_train)  \n",
    "\n",
    "coeff_df = pd.DataFrame(temp.coef_, X_train.columns, columns=['Cofficient']) # getting coefficient value with the name of column for which co-efficient is generated\n",
    "print(coeff_df)\n",
    "print()\n",
    "\n",
    "print('Linear Intercept term: ',temp.intercept_) # obtaining intercept term\n",
    "\n",
    "y_pred = regressor.predict(X_test)  # predicting the value of y(i.e. CPI) for testing data so that we can check how accurate our model is\n",
    "\n",
    "from sklearn.metrics import mean_squared_error, mean_absolute_error, r2_score\n",
    "from math import sqrt\n",
    "print()\n",
    "rmse = sqrt(mean_squared_error(y_test, y_pred))  # Computing value of Root Mean Square Error for testing data\n",
    "print(\"RMSE:- \",rmse)\n",
    "\n",
    "rsq = r2_score(y_test,y_pred) # Computing R-Squared for testing data\n",
    "print('R-square: ',rsq)\n",
    "\n",
    "rad=1-(((1-rsq)*(len(y)-1))/(len(y)-1-X.shape[1])) # Computing Adjusted R-Squared for testing data\n",
    "print('Adjusted R-square: ', rad)\n",
    "\n",
    "F=(rsq/(1-rsq))*((len(y)-1-X.shape[1])/X.shape[1]) # Computing F-value for testing data\n",
    "print('F value :',F)\n",
    "\n",
    "print(\"Pvalues :\",ttest_ind(X, y).pvalue) # Finding p-value\n",
    "\n",
    "res=y_test-y_pred  # Getting vale of all the residuals\n",
    "print('Sum of Residuals :', sum(res))\n"
   ]
  },
  {
   "cell_type": "code",
   "execution_count": 16,
   "metadata": {
    "scrolled": true
   },
   "outputs": [
    {
     "name": "stdout",
     "output_type": "stream",
     "text": [
      "branch-misses 0.3732668194731611\n",
      "cache-misses 0.18394589425578703\n",
      "L1-dcache-load-misses 0.06103618028350654\n",
      "LLC-store-misses 0.012045023521636307\n",
      "dTLB-load-misses 0.021661045370006352\n",
      "dTLB-store-misses 0.006588383291310099\n",
      "iTLB-load-misses 0.007705485473600302\n",
      "Base CPI is--             0.4751256601196242\n",
      "Misses CPI is--             0.6662488316690076\n",
      "CPI we got is--             1.141374491788632\n",
      "Average CPI is--             1.1827439990620914\n"
     ]
    }
   ],
   "source": [
    "mean_instruction = dataset['instructions'].values.mean()  # Computing mean of total instruction\n",
    "mean_cpi = dataset['CPI'].values.mean() # Computing mean of CPI \n",
    "\n",
    "#Extracting values of all the co-efficient for calculation and storing them in specific variable\n",
    "C1=temp.coef_[0]\n",
    "C2=temp.coef_[1]\n",
    "C3=temp.coef_[2]\n",
    "C4=temp.coef_[3]\n",
    "C5=temp.coef_[4]\n",
    "C6=temp.coef_[5]\n",
    "C7=temp.coef_[6]\n",
    "#C8=temp.coef_[7]\n",
    "#C9=temp.coef_[8]\n",
    "\n",
    "# getting name in coefficient array so that we can check which value is for which array\n",
    "index = coeff_df.index\n",
    "a_list = list(index)\n",
    "\n",
    "# Computing CPI for all the miss event for developing the CPI stack\n",
    "mean_C1 = dataset[a_list[0]].values.mean()  # in order to get the CPI  obtained mean of count of specific column\n",
    "cpi_of_c1=C1*(mean_C1/mean_instruction) # For getting value between 0 and 1 we have divided each column with count of inst so here again we are dividing with count of instructions\n",
    "print(a_list[0],cpi_of_c1)  # printing the name of miss event and value of CPI corresponding to the miss event\n",
    "\n",
    "# same above three steps are continued for all the events\n",
    "mean_C2 = dataset[a_list[1]].values.mean()\n",
    "cpi_of_c2=C2*(mean_C2/mean_instruction)\n",
    "print(a_list[1],cpi_of_c2)\n",
    "\n",
    "mean_C3 = dataset[a_list[2]].values.mean()\n",
    "cpi_of_c3=C3*(mean_C3/mean_instruction)\n",
    "print(a_list[2],cpi_of_c3)\n",
    "\n",
    "mean_C4 = dataset[a_list[3]].values.mean()\n",
    "cpi_of_c4=C4*(mean_C4/mean_instruction)\n",
    "print(a_list[3],cpi_of_c4)\n",
    "\n",
    "mean_C5 = dataset[a_list[4]].values.mean()\n",
    "cpi_of_c5=C5*(mean_C5/mean_instruction)\n",
    "print(a_list[4],cpi_of_c5)\n",
    "\n",
    "mean_C6 = dataset[a_list[5]].values.mean()\n",
    "cpi_of_c6=C6*(mean_C6/mean_instruction)\n",
    "print(a_list[5],cpi_of_c6)\n",
    "\n",
    "mean_C7 = dataset[a_list[6]].values.mean()\n",
    "cpi_of_c7=C7*(mean_C7/mean_instruction)\n",
    "print(a_list[6],cpi_of_c7)\n",
    "\n",
    "# mean_C8 = dataset[a_list[7]].values.mean()\n",
    "# cpi_of_c8=C8*(mean_C8/mean_instruction)\n",
    "# print(a_list[7],cpi_of_c8)\n",
    "\n",
    "# mean_C9 = dataset[a_list[8]].values.mean()\n",
    "# cpi_of_c9=C9*(mean_C9/mean_instruction)\n",
    "# print(a_list[8],cpi_of_c9)\n",
    "\n",
    "\n",
    "\n",
    "Base_cpi=temp.intercept_  # intercept will give the value of base CPI and for building the stack we will need base CPI\n",
    "print('Base CPI is--            ',Base_cpi)\n",
    "\n",
    "misses_cpi=cpi_of_c1+cpi_of_c2+cpi_of_c3+cpi_of_c4+cpi_of_c5+cpi_of_c6+cpi_of_c7 # Finding CPI contribution due to all the misses\n",
    "print('Misses CPI is--            ',misses_cpi)\n",
    "\n",
    "print('CPI we got is--            ',Base_cpi+misses_cpi) # what is the average CPI we got by our calculation\n",
    "\n",
    "print('Average CPI is--            ',mean_cpi) # what is the actual average CPI for the benchmark"
   ]
  },
  {
   "cell_type": "code",
   "execution_count": 17,
   "metadata": {},
   "outputs": [
    {
     "data": {
      "image/png": "[encoded data removed]",
      "text/plain": [
       "<Figure size 432x288 with 1 Axes>"
      ]
     },
     "metadata": {
      "needs_background": "light"
     },
     "output_type": "display_data"
    }
   ],
   "source": [
    "#creating the array of all the values of CPI of all the miss event so that we can directly get value byindexing also appended base CPI\n",
    "array_of_cpi=[cpi_of_c1,cpi_of_c2,cpi_of_c3,cpi_of_c4,cpi_of_c5,cpi_of_c6,cpi_of_c7,Base_cpi]\n",
    "\n",
    "label_of_cpi=[]  # this array will store the name of all the miss event we have \n",
    "for i in range(0,7):\n",
    "    label_of_cpi.append(a_list[i])\n",
    "label_of_cpi.append('Base CPI') # we also add base cpi in the array becuase this will be the base of stack\n",
    "\n",
    "sum_prev_cpi=0 # for building the stck we will need CPI in the format of sum because if we are moving up in the bar graph than our value is increasing by that number\n",
    "\n",
    "for i in range(7,-1,-1):  # getting the sum to build stack (Here base cpi is not used becuase we not need to do any sumation for base CPI becuse that will be base of stack)\n",
    "    array_of_cpi[i]=array_of_cpi[i]+sum_prev_cpi\n",
    "    sum_prev_cpi=array_of_cpi[i]\n",
    "    \n",
    "width = 0.55        # width of the bar\n",
    "\n",
    "fig, ax = plt.subplots() # generating the CPI stack\n",
    "for i in range(0,8):\n",
    "    ax.bar( width,array_of_cpi[i],  label=label_of_cpi[i])\n",
    "    \n",
    "ax.set_ylabel('CPI')  # y axis is labled as CPI\n",
    "ax.set_title('CPI Stack')\n",
    "ax.legend()\n",
    "\n",
    "plt.tick_params(\n",
    "    axis='x',          # changes apply to the x-axis\n",
    "    which='both',      # both major and minor ticks are affected\n",
    "    bottom=False,      # ticks along the bottom edge are off\n",
    "    top=False,         # ticks along the top edge are off\n",
    "    labelbottom=False) # labels along the bottom edge are off\n",
    "plt.show()"
   ]
  },
  {
   "cell_type": "code",
   "execution_count": 18,
   "metadata": {},
   "outputs": [
    {
     "data": {
      "image/png": "[encoded data removed]",
      "text/plain": [
       "<Figure size 432x288 with 1 Axes>"
      ]
     },
     "metadata": {
      "needs_background": "light"
     },
     "output_type": "display_data"
    }
   ],
   "source": [
    "# For better visulation of the miss event we have built this bar graph so that we can compare all the miss event \n",
    "# including the base CPI (By comapring the length of bar we can analyze that which event is contributing how much\n",
    "# to the CPI)\n",
    "\n",
    "r=[cpi_of_c1,cpi_of_c2,cpi_of_c3,cpi_of_c4,cpi_of_c5,cpi_of_c6,cpi_of_c7,Base_cpi]\n",
    "s = np.array([int((x - min(r))/(max(r) - min(r)) * 10) for x in r])\n",
    "\n",
    "plt.bar(np.arange(len(s)), s)\n",
    "plt.show()"
   ]
  },
  {
   "cell_type": "code",
   "execution_count": 19,
   "metadata": {},
   "outputs": [
    {
     "data": {
      "image/png": "[encoded data removed]",
      "text/plain": [
       "<Figure size 432x288 with 1 Axes>"
      ]
     },
     "metadata": {
      "needs_background": "light"
     },
     "output_type": "display_data"
    }
   ],
   "source": [
    "# we have plotted our prediction\n",
    "# here y axis is predicted value and x axis is actual value \n",
    "import matplotlib.pyplot as plt\n",
    "plt.scatter(y_test,y_pred)\n",
    "plt.xlabel(\"Actual : \")\n",
    "plt.ylabel(\"Predicted : \")\n",
    "plt.title(\"Predicted  vs Actual: For Lasso\")\n",
    "plt.show()"
   ]
  },
  {
   "cell_type": "code",
   "execution_count": 20,
   "metadata": {},
   "outputs": [],
   "source": [
    "# Note:- Code below for here is just for checking not used in assignment report or anywhere else \n",
    "# All the code below from this point is for Linear regression we have just used this to check that what is the \n",
    "# difference we got between the Linear regression model and lasso model \n",
    "\n",
    "\n",
    "from sklearn.linear_model import LinearRegression\n",
    "regressor_linear = LinearRegression()\n",
    "# temp=regressor.fit(X_train, y_train)\n",
    "temp=regressor_linear.fit(X_train, y_train)\n",
    "y_pred_linear = regressor_linear.predict(X_test)\n"
   ]
  },
  {
   "cell_type": "code",
   "execution_count": 21,
   "metadata": {},
   "outputs": [
    {
     "name": "stdout",
     "output_type": "stream",
     "text": [
      "Linear Intercept term:  0.4751158502694339\n",
      "Linear Coefficients: \n",
      " [2.70475029e+01 1.04253519e+01 1.01887420e+00 2.76684585e+01\n",
      " 3.90679762e+01 3.65819065e+01 5.53681784e+03]\n"
     ]
    }
   ],
   "source": [
    "print('Linear Intercept term: ',temp.intercept_) # This gives us the intercept term\n",
    "print('Linear Coefficients: \\n',temp.coef_) \n",
    "# print(temp.coef_)\n"
   ]
  },
  {
   "cell_type": "code",
   "execution_count": 22,
   "metadata": {},
   "outputs": [
    {
     "data": {
      "image/png": "[encoded data removed]",
      "text/plain": [
       "<Figure size 432x288 with 1 Axes>"
      ]
     },
     "metadata": {
      "needs_background": "light"
     },
     "output_type": "display_data"
    }
   ],
   "source": [
    "import matplotlib.pyplot as plt\n",
    "plt.scatter(y_test,y_pred_linear)\n",
    "plt.xlabel(\"Actual : $Y_i$\")\n",
    "plt.ylabel(\"Predicted : $\\hat{Y}_i$\")\n",
    "plt.title(\"Predicted  vs Actual: For Linear Regression\")\n",
    "plt.show()\n",
    "# print(y_pred_linear)\n",
    "# print(y_pred)"
   ]
  },
  {
   "cell_type": "code",
   "execution_count": 23,
   "metadata": {},
   "outputs": [
    {
     "name": "stdout",
     "output_type": "stream",
     "text": [
      "\n",
      "RMSE:-  0.09669778688013732\n",
      "R-square:  0.8315337425626893\n"
     ]
    }
   ],
   "source": [
    "from sklearn.metrics import mean_squared_error, mean_absolute_error, r2_score\n",
    "from math import sqrt\n",
    "print()\n",
    "rmse = sqrt(mean_squared_error(y_test, y_pred_linear))  # Computing value of Root Mean Square Error for testing data\n",
    "print(\"RMSE:- \",rmse)\n",
    "\n",
    "rsq = r2_score(y_test,y_pred) # Computing R-Squared for testing data\n",
    "print('R-square: ',rsq)"
   ]
  },
  {
   "cell_type": "code",
   "execution_count": null,
   "metadata": {},
   "outputs": [],
   "source": []
  },
  {
   "cell_type": "code",
   "execution_count": null,
   "metadata": {},
   "outputs": [],
   "source": []
  }
 ],
 "metadata": {
  "kernelspec": {
   "display_name": "Python 3",
   "language": "python",
   "name": "python3"
  },
  "language_info": {
   "codemirror_mode": {
    "name": "ipython",
    "version": 3
   },
   "file_extension": ".py",
   "mimetype": "text/x-python",
   "name": "python",
   "nbconvert_exporter": "python",
   "pygments_lexer": "ipython3",
   "version": "3.7.6"
  }
 },
 "nbformat": 4,
 "nbformat_minor": 4
}
