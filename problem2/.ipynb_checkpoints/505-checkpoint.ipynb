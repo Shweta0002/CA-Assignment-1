{
 "cells": [
  {
   "cell_type": "code",
   "execution_count": 1,
   "metadata": {},
   "outputs": [],
   "source": [
    "import numpy as np\n",
    "import pandas as pd\n",
    "import seaborn as sn\n",
    "import sklearn \n",
    "import matplotlib.pyplot as plt\n",
    "from scipy.stats import ttest_ind"
   ]
  },
  {
   "cell_type": "code",
   "execution_count": 2,
   "metadata": {},
   "outputs": [],
   "source": [
    "dataset = pd.read_csv(\"505_DATAPOINTS.csv\")\n",
    "dataset= dataset.iloc[650:]"
   ]
  },
  {
   "cell_type": "code",
   "execution_count": 3,
   "metadata": {},
   "outputs": [
    {
     "data": {
      "text/html": [
       "<div>\n",
       "<style scoped>\n",
       "    .dataframe tbody tr th:only-of-type {\n",
       "        vertical-align: middle;\n",
       "    }\n",
       "\n",
       "    .dataframe tbody tr th {\n",
       "        vertical-align: top;\n",
       "    }\n",
       "\n",
       "    .dataframe thead th {\n",
       "        text-align: right;\n",
       "    }\n",
       "</style>\n",
       "<table border=\"1\" class=\"dataframe\">\n",
       "  <thead>\n",
       "    <tr style=\"text-align: right;\">\n",
       "      <th></th>\n",
       "      <th>time</th>\n",
       "      <th>cycles</th>\n",
       "      <th>instructions</th>\n",
       "      <th>branch-misses</th>\n",
       "      <th>cache-misses</th>\n",
       "      <th>L1-dcache-load-misses</th>\n",
       "      <th>L1-icache-load-misses</th>\n",
       "      <th>LLC-load-misses</th>\n",
       "      <th>LLC-store-misses</th>\n",
       "      <th>branch-load-misses</th>\n",
       "      <th>dTLB-load-misses</th>\n",
       "      <th>dTLB-store-misses</th>\n",
       "      <th>iTLB-load-misses</th>\n",
       "      <th>l2_rqsts.code_rd_miss</th>\n",
       "      <th>l2_rqsts.demand_data_rd_miss</th>\n",
       "      <th>l2_rqsts.all_demand_miss</th>\n",
       "      <th>CPI</th>\n",
       "    </tr>\n",
       "  </thead>\n",
       "  <tbody>\n",
       "    <tr>\n",
       "      <th>650</th>\n",
       "      <td>196.179325</td>\n",
       "      <td>1339330646</td>\n",
       "      <td>1564960461</td>\n",
       "      <td>11452043</td>\n",
       "      <td>19803716</td>\n",
       "      <td>82708026</td>\n",
       "      <td>63872</td>\n",
       "      <td>6269223</td>\n",
       "      <td>397993</td>\n",
       "      <td>11735130</td>\n",
       "      <td>382623</td>\n",
       "      <td>148995</td>\n",
       "      <td>1585</td>\n",
       "      <td>22456</td>\n",
       "      <td>9208410</td>\n",
       "      <td>9489732</td>\n",
       "      <td>0.855824</td>\n",
       "    </tr>\n",
       "    <tr>\n",
       "      <th>651</th>\n",
       "      <td>196.479771</td>\n",
       "      <td>1340868645</td>\n",
       "      <td>1770944828</td>\n",
       "      <td>12605418</td>\n",
       "      <td>16677671</td>\n",
       "      <td>117061033</td>\n",
       "      <td>64457</td>\n",
       "      <td>6956207</td>\n",
       "      <td>831209</td>\n",
       "      <td>12610823</td>\n",
       "      <td>321161</td>\n",
       "      <td>150661</td>\n",
       "      <td>1480</td>\n",
       "      <td>29951</td>\n",
       "      <td>11235127</td>\n",
       "      <td>11444913</td>\n",
       "      <td>0.757149</td>\n",
       "    </tr>\n",
       "    <tr>\n",
       "      <th>652</th>\n",
       "      <td>196.780262</td>\n",
       "      <td>1335218370</td>\n",
       "      <td>1227937754</td>\n",
       "      <td>8871690</td>\n",
       "      <td>29148399</td>\n",
       "      <td>114285029</td>\n",
       "      <td>58618</td>\n",
       "      <td>11775626</td>\n",
       "      <td>789005</td>\n",
       "      <td>9194463</td>\n",
       "      <td>511480</td>\n",
       "      <td>212394</td>\n",
       "      <td>1852</td>\n",
       "      <td>33404</td>\n",
       "      <td>12279390</td>\n",
       "      <td>12703080</td>\n",
       "      <td>1.087366</td>\n",
       "    </tr>\n",
       "    <tr>\n",
       "      <th>653</th>\n",
       "      <td>197.080670</td>\n",
       "      <td>1333627834</td>\n",
       "      <td>860549471</td>\n",
       "      <td>12965492</td>\n",
       "      <td>35725134</td>\n",
       "      <td>51995788</td>\n",
       "      <td>61547</td>\n",
       "      <td>15283927</td>\n",
       "      <td>1867</td>\n",
       "      <td>14380096</td>\n",
       "      <td>3749310</td>\n",
       "      <td>10956</td>\n",
       "      <td>1127</td>\n",
       "      <td>34046</td>\n",
       "      <td>16004525</td>\n",
       "      <td>14982864</td>\n",
       "      <td>1.549740</td>\n",
       "    </tr>\n",
       "    <tr>\n",
       "      <th>654</th>\n",
       "      <td>197.381115</td>\n",
       "      <td>1342991494</td>\n",
       "      <td>880104647</td>\n",
       "      <td>14575751</td>\n",
       "      <td>30309609</td>\n",
       "      <td>40281827</td>\n",
       "      <td>66649</td>\n",
       "      <td>10038979</td>\n",
       "      <td>2157</td>\n",
       "      <td>13928467</td>\n",
       "      <td>4503265</td>\n",
       "      <td>1837</td>\n",
       "      <td>1503</td>\n",
       "      <td>42362</td>\n",
       "      <td>16791479</td>\n",
       "      <td>15647138</td>\n",
       "      <td>1.525945</td>\n",
       "    </tr>\n",
       "  </tbody>\n",
       "</table>\n",
       "</div>"
      ],
      "text/plain": [
       "           time      cycles  instructions  branch-misses  cache-misses  \\\n",
       "650  196.179325  1339330646    1564960461       11452043      19803716   \n",
       "651  196.479771  1340868645    1770944828       12605418      16677671   \n",
       "652  196.780262  1335218370    1227937754        8871690      29148399   \n",
       "653  197.080670  1333627834     860549471       12965492      35725134   \n",
       "654  197.381115  1342991494     880104647       14575751      30309609   \n",
       "\n",
       "     L1-dcache-load-misses  L1-icache-load-misses  LLC-load-misses  \\\n",
       "650               82708026                  63872          6269223   \n",
       "651              117061033                  64457          6956207   \n",
       "652              114285029                  58618         11775626   \n",
       "653               51995788                  61547         15283927   \n",
       "654               40281827                  66649         10038979   \n",
       "\n",
       "     LLC-store-misses  branch-load-misses  dTLB-load-misses  \\\n",
       "650            397993            11735130            382623   \n",
       "651            831209            12610823            321161   \n",
       "652            789005             9194463            511480   \n",
       "653              1867            14380096           3749310   \n",
       "654              2157            13928467           4503265   \n",
       "\n",
       "     dTLB-store-misses  iTLB-load-misses  l2_rqsts.code_rd_miss  \\\n",
       "650             148995              1585                  22456   \n",
       "651             150661              1480                  29951   \n",
       "652             212394              1852                  33404   \n",
       "653              10956              1127                  34046   \n",
       "654               1837              1503                  42362   \n",
       "\n",
       "     l2_rqsts.demand_data_rd_miss  l2_rqsts.all_demand_miss       CPI  \n",
       "650                       9208410                   9489732  0.855824  \n",
       "651                      11235127                  11444913  0.757149  \n",
       "652                      12279390                  12703080  1.087366  \n",
       "653                      16004525                  14982864  1.549740  \n",
       "654                      16791479                  15647138  1.525945  "
      ]
     },
     "execution_count": 3,
     "metadata": {},
     "output_type": "execute_result"
    }
   ],
   "source": [
    "dataset.head()"
   ]
  },
  {
   "cell_type": "code",
   "execution_count": 4,
   "metadata": {},
   "outputs": [
    {
     "data": {
      "text/html": [
       "<div>\n",
       "<style scoped>\n",
       "    .dataframe tbody tr th:only-of-type {\n",
       "        vertical-align: middle;\n",
       "    }\n",
       "\n",
       "    .dataframe tbody tr th {\n",
       "        vertical-align: top;\n",
       "    }\n",
       "\n",
       "    .dataframe thead th {\n",
       "        text-align: right;\n",
       "    }\n",
       "</style>\n",
       "<table border=\"1\" class=\"dataframe\">\n",
       "  <thead>\n",
       "    <tr style=\"text-align: right;\">\n",
       "      <th></th>\n",
       "      <th>time</th>\n",
       "      <th>cycles</th>\n",
       "      <th>instructions</th>\n",
       "      <th>branch-misses</th>\n",
       "      <th>cache-misses</th>\n",
       "      <th>L1-dcache-load-misses</th>\n",
       "      <th>L1-icache-load-misses</th>\n",
       "      <th>LLC-load-misses</th>\n",
       "      <th>LLC-store-misses</th>\n",
       "      <th>branch-load-misses</th>\n",
       "      <th>dTLB-load-misses</th>\n",
       "      <th>dTLB-store-misses</th>\n",
       "      <th>iTLB-load-misses</th>\n",
       "      <th>l2_rqsts.code_rd_miss</th>\n",
       "      <th>l2_rqsts.demand_data_rd_miss</th>\n",
       "      <th>l2_rqsts.all_demand_miss</th>\n",
       "      <th>CPI</th>\n",
       "    </tr>\n",
       "  </thead>\n",
       "  <tbody>\n",
       "    <tr>\n",
       "      <th>count</th>\n",
       "      <td>1271.000000</td>\n",
       "      <td>1.271000e+03</td>\n",
       "      <td>1.271000e+03</td>\n",
       "      <td>1.271000e+03</td>\n",
       "      <td>1.271000e+03</td>\n",
       "      <td>1.271000e+03</td>\n",
       "      <td>1.271000e+03</td>\n",
       "      <td>1.271000e+03</td>\n",
       "      <td>1.271000e+03</td>\n",
       "      <td>1.271000e+03</td>\n",
       "      <td>1.271000e+03</td>\n",
       "      <td>1.271000e+03</td>\n",
       "      <td>1271.000000</td>\n",
       "      <td>1.271000e+03</td>\n",
       "      <td>1.271000e+03</td>\n",
       "      <td>1.271000e+03</td>\n",
       "      <td>1271.000000</td>\n",
       "    </tr>\n",
       "    <tr>\n",
       "      <th>mean</th>\n",
       "      <td>386.965274</td>\n",
       "      <td>1.342854e+09</td>\n",
       "      <td>1.167721e+09</td>\n",
       "      <td>1.669982e+07</td>\n",
       "      <td>2.042769e+07</td>\n",
       "      <td>6.850794e+07</td>\n",
       "      <td>1.464332e+05</td>\n",
       "      <td>7.417251e+06</td>\n",
       "      <td>4.937640e+05</td>\n",
       "      <td>1.668682e+07</td>\n",
       "      <td>6.563808e+05</td>\n",
       "      <td>2.086057e+05</td>\n",
       "      <td>1643.690795</td>\n",
       "      <td>6.493709e+04</td>\n",
       "      <td>1.589039e+07</td>\n",
       "      <td>1.697451e+07</td>\n",
       "      <td>1.197422</td>\n",
       "    </tr>\n",
       "    <tr>\n",
       "      <th>std</th>\n",
       "      <td>110.286555</td>\n",
       "      <td>4.022395e+07</td>\n",
       "      <td>2.482814e+08</td>\n",
       "      <td>6.778955e+06</td>\n",
       "      <td>1.344430e+07</td>\n",
       "      <td>3.643888e+07</td>\n",
       "      <td>1.418556e+06</td>\n",
       "      <td>7.626899e+06</td>\n",
       "      <td>1.450223e+06</td>\n",
       "      <td>6.787054e+06</td>\n",
       "      <td>1.412968e+06</td>\n",
       "      <td>7.165331e+05</td>\n",
       "      <td>1716.019070</td>\n",
       "      <td>1.634299e+05</td>\n",
       "      <td>8.157660e+06</td>\n",
       "      <td>8.026792e+06</td>\n",
       "      <td>0.246206</td>\n",
       "    </tr>\n",
       "    <tr>\n",
       "      <th>min</th>\n",
       "      <td>196.179325</td>\n",
       "      <td>6.802146e+08</td>\n",
       "      <td>5.221102e+08</td>\n",
       "      <td>1.263720e+05</td>\n",
       "      <td>4.261570e+05</td>\n",
       "      <td>8.340925e+06</td>\n",
       "      <td>1.921800e+04</td>\n",
       "      <td>2.424400e+04</td>\n",
       "      <td>7.520000e+02</td>\n",
       "      <td>8.031500e+04</td>\n",
       "      <td>2.754000e+03</td>\n",
       "      <td>3.430000e+02</td>\n",
       "      <td>225.000000</td>\n",
       "      <td>1.681700e+04</td>\n",
       "      <td>8.717810e+05</td>\n",
       "      <td>4.979259e+06</td>\n",
       "      <td>0.525561</td>\n",
       "    </tr>\n",
       "    <tr>\n",
       "      <th>25%</th>\n",
       "      <td>291.562075</td>\n",
       "      <td>1.336929e+09</td>\n",
       "      <td>1.065840e+09</td>\n",
       "      <td>1.031024e+07</td>\n",
       "      <td>9.742226e+06</td>\n",
       "      <td>4.452455e+07</td>\n",
       "      <td>4.733300e+04</td>\n",
       "      <td>2.151936e+06</td>\n",
       "      <td>3.707000e+03</td>\n",
       "      <td>1.035900e+07</td>\n",
       "      <td>8.915500e+04</td>\n",
       "      <td>2.798000e+03</td>\n",
       "      <td>874.500000</td>\n",
       "      <td>2.852250e+04</td>\n",
       "      <td>1.101294e+07</td>\n",
       "      <td>1.215197e+07</td>\n",
       "      <td>1.087572</td>\n",
       "    </tr>\n",
       "    <tr>\n",
       "      <th>50%</th>\n",
       "      <td>386.960176</td>\n",
       "      <td>1.344986e+09</td>\n",
       "      <td>1.132163e+09</td>\n",
       "      <td>1.875723e+07</td>\n",
       "      <td>1.738099e+07</td>\n",
       "      <td>5.258927e+07</td>\n",
       "      <td>8.204400e+04</td>\n",
       "      <td>4.714936e+06</td>\n",
       "      <td>5.385000e+03</td>\n",
       "      <td>1.882903e+07</td>\n",
       "      <td>1.349120e+05</td>\n",
       "      <td>4.350000e+03</td>\n",
       "      <td>1578.000000</td>\n",
       "      <td>6.313100e+04</td>\n",
       "      <td>1.315631e+07</td>\n",
       "      <td>1.438162e+07</td>\n",
       "      <td>1.190894</td>\n",
       "    </tr>\n",
       "    <tr>\n",
       "      <th>75%</th>\n",
       "      <td>482.372602</td>\n",
       "      <td>1.355206e+09</td>\n",
       "      <td>1.238686e+09</td>\n",
       "      <td>2.316636e+07</td>\n",
       "      <td>2.826401e+07</td>\n",
       "      <td>7.833938e+07</td>\n",
       "      <td>1.228840e+05</td>\n",
       "      <td>1.001844e+07</td>\n",
       "      <td>2.456565e+05</td>\n",
       "      <td>2.313133e+07</td>\n",
       "      <td>4.713185e+05</td>\n",
       "      <td>1.170500e+05</td>\n",
       "      <td>2067.000000</td>\n",
       "      <td>7.457100e+04</td>\n",
       "      <td>1.774261e+07</td>\n",
       "      <td>1.884690e+07</td>\n",
       "      <td>1.254033</td>\n",
       "    </tr>\n",
       "    <tr>\n",
       "      <th>max</th>\n",
       "      <td>577.631523</td>\n",
       "      <td>1.428287e+09</td>\n",
       "      <td>2.538551e+09</td>\n",
       "      <td>2.635659e+07</td>\n",
       "      <td>6.963030e+07</td>\n",
       "      <td>2.596293e+08</td>\n",
       "      <td>3.585972e+07</td>\n",
       "      <td>4.142643e+07</td>\n",
       "      <td>1.042994e+07</td>\n",
       "      <td>2.600268e+07</td>\n",
       "      <td>9.360156e+06</td>\n",
       "      <td>6.172711e+06</td>\n",
       "      <td>46902.000000</td>\n",
       "      <td>4.596802e+06</td>\n",
       "      <td>5.633535e+07</td>\n",
       "      <td>5.665437e+07</td>\n",
       "      <td>2.542541</td>\n",
       "    </tr>\n",
       "  </tbody>\n",
       "</table>\n",
       "</div>"
      ],
      "text/plain": [
       "              time        cycles  instructions  branch-misses  cache-misses  \\\n",
       "count  1271.000000  1.271000e+03  1.271000e+03   1.271000e+03  1.271000e+03   \n",
       "mean    386.965274  1.342854e+09  1.167721e+09   1.669982e+07  2.042769e+07   \n",
       "std     110.286555  4.022395e+07  2.482814e+08   6.778955e+06  1.344430e+07   \n",
       "min     196.179325  6.802146e+08  5.221102e+08   1.263720e+05  4.261570e+05   \n",
       "25%     291.562075  1.336929e+09  1.065840e+09   1.031024e+07  9.742226e+06   \n",
       "50%     386.960176  1.344986e+09  1.132163e+09   1.875723e+07  1.738099e+07   \n",
       "75%     482.372602  1.355206e+09  1.238686e+09   2.316636e+07  2.826401e+07   \n",
       "max     577.631523  1.428287e+09  2.538551e+09   2.635659e+07  6.963030e+07   \n",
       "\n",
       "       L1-dcache-load-misses  L1-icache-load-misses  LLC-load-misses  \\\n",
       "count           1.271000e+03           1.271000e+03     1.271000e+03   \n",
       "mean            6.850794e+07           1.464332e+05     7.417251e+06   \n",
       "std             3.643888e+07           1.418556e+06     7.626899e+06   \n",
       "min             8.340925e+06           1.921800e+04     2.424400e+04   \n",
       "25%             4.452455e+07           4.733300e+04     2.151936e+06   \n",
       "50%             5.258927e+07           8.204400e+04     4.714936e+06   \n",
       "75%             7.833938e+07           1.228840e+05     1.001844e+07   \n",
       "max             2.596293e+08           3.585972e+07     4.142643e+07   \n",
       "\n",
       "       LLC-store-misses  branch-load-misses  dTLB-load-misses  \\\n",
       "count      1.271000e+03        1.271000e+03      1.271000e+03   \n",
       "mean       4.937640e+05        1.668682e+07      6.563808e+05   \n",
       "std        1.450223e+06        6.787054e+06      1.412968e+06   \n",
       "min        7.520000e+02        8.031500e+04      2.754000e+03   \n",
       "25%        3.707000e+03        1.035900e+07      8.915500e+04   \n",
       "50%        5.385000e+03        1.882903e+07      1.349120e+05   \n",
       "75%        2.456565e+05        2.313133e+07      4.713185e+05   \n",
       "max        1.042994e+07        2.600268e+07      9.360156e+06   \n",
       "\n",
       "       dTLB-store-misses  iTLB-load-misses  l2_rqsts.code_rd_miss  \\\n",
       "count       1.271000e+03       1271.000000           1.271000e+03   \n",
       "mean        2.086057e+05       1643.690795           6.493709e+04   \n",
       "std         7.165331e+05       1716.019070           1.634299e+05   \n",
       "min         3.430000e+02        225.000000           1.681700e+04   \n",
       "25%         2.798000e+03        874.500000           2.852250e+04   \n",
       "50%         4.350000e+03       1578.000000           6.313100e+04   \n",
       "75%         1.170500e+05       2067.000000           7.457100e+04   \n",
       "max         6.172711e+06      46902.000000           4.596802e+06   \n",
       "\n",
       "       l2_rqsts.demand_data_rd_miss  l2_rqsts.all_demand_miss          CPI  \n",
       "count                  1.271000e+03              1.271000e+03  1271.000000  \n",
       "mean                   1.589039e+07              1.697451e+07     1.197422  \n",
       "std                    8.157660e+06              8.026792e+06     0.246206  \n",
       "min                    8.717810e+05              4.979259e+06     0.525561  \n",
       "25%                    1.101294e+07              1.215197e+07     1.087572  \n",
       "50%                    1.315631e+07              1.438162e+07     1.190894  \n",
       "75%                    1.774261e+07              1.884690e+07     1.254033  \n",
       "max                    5.633535e+07              5.665437e+07     2.542541  "
      ]
     },
     "execution_count": 4,
     "metadata": {},
     "output_type": "execute_result"
    }
   ],
   "source": [
    "dataset.describe()"
   ]
  },
  {
   "cell_type": "code",
   "execution_count": 5,
   "metadata": {},
   "outputs": [
    {
     "name": "stdout",
     "output_type": "stream",
     "text": [
      "(1271,)\n"
     ]
    }
   ],
   "source": [
    "instruction = dataset['instructions']\n",
    "print(instruction.shape)"
   ]
  },
  {
   "cell_type": "code",
   "execution_count": 6,
   "metadata": {},
   "outputs": [
    {
     "name": "stdout",
     "output_type": "stream",
     "text": [
      "(1271, 1)\n"
     ]
    }
   ],
   "source": [
    "instructions = dataset['instructions'].values.reshape(-1,1) #extracting values of column instructions\n",
    "print(instructions.shape)\n",
    "y=dataset['CPI']  #setting y as CPI\n",
    "\n",
    "X = dataset.drop(['CPI','cycles','time','instructions' , 'branch-load-misses'  ,'l2_rqsts.code_rd_miss','l2_rqsts.demand_data_rd_miss','l2_rqsts.all_demand_miss'], axis = 1) #dropping all the other column which is not required\n",
    "X = np.divide(X, instructions)  #dividing each columns value with instruction count (so all values are between 0 and 1)\n",
    "#'LLC-store-misses','L1-icache-load-misses','l2_rqsts.all_demand_miss','dTLB-store-misses','l2_rqsts.code_rd_miss'"
   ]
  },
  {
   "cell_type": "code",
   "execution_count": 15,
   "metadata": {},
   "outputs": [
    {
     "name": "stdout",
     "output_type": "stream",
     "text": [
      "['branch-load-misses', 'l2_rqsts.code_rd_miss', 'l2_rqsts.all_demand_miss']\n"
     ]
    }
   ],
   "source": [
    "# Create correlation matrix\n",
    "corr_matrix = dataset.corr().abs()\n",
    "\n",
    "# Select upper triangle of correlation matrix\n",
    "upper = corr_matrix.where(np.triu(np.ones(corr_matrix.shape), k=1).astype(bool))\n",
    "\n",
    "# Find features with correlation greater than 0.95\n",
    "to_drop = [column for column in upper.columns if any(upper[column]>0.95)] \n",
    "print(to_drop)"
   ]
  },
  {
   "cell_type": "code",
   "execution_count": 10,
   "metadata": {},
   "outputs": [
    {
     "data": {
      "text/plain": [
       "<matplotlib.axes._subplots.AxesSubplot at 0x25dd8f69d88>"
      ]
     },
     "execution_count": 10,
     "metadata": {},
     "output_type": "execute_result"
    },
    {
     "data": {
      "image/png": "[encoded data removed]",
      "text/plain": [
       "<Figure size 432x288 with 2 Axes>"
      ]
     },
     "metadata": {
      "needs_background": "light"
     },
     "output_type": "display_data"
    }
   ],
   "source": [
    "X.head()\n",
    "\n",
    "#print(dataset.corr())\n",
    "sn.heatmap(dataset.corr())"
   ]
  },
  {
   "cell_type": "code",
   "execution_count": 27,
   "metadata": {},
   "outputs": [
    {
     "name": "stdout",
     "output_type": "stream",
     "text": [
      "(1143, 7)\n",
      "(128, 7)\n"
     ]
    }
   ],
   "source": [
    "from sklearn.model_selection import train_test_split  # performing train test split so that we can train our model on training data and test the model on testing data\n",
    "X_train, X_test, y_train, y_test = train_test_split(X,y, test_size=0.1, random_state=0) #specifying how much should be train test split\n",
    "print(X_train.shape)\n",
    "print(X_test.shape)"
   ]
  },
  {
   "cell_type": "code",
   "execution_count": 28,
   "metadata": {},
   "outputs": [
    {
     "name": "stdout",
     "output_type": "stream",
     "text": [
      "                      Cofficient\n",
      "branch-misses           4.524320\n",
      "cache-misses           11.826682\n",
      "LLC-store-misses       24.585130\n",
      "branch-load-misses     20.312908\n",
      "dTLB-load-misses       32.932682\n",
      "dTLB-store-misses      37.315616\n",
      "iTLB-load-misses    14206.886065\n",
      "\n",
      "Linear Intercept term:  0.5406655074155122\n",
      "\n",
      "RMSE:-  0.1164162147160045\n",
      "R-square:  0.8079937637521217\n",
      "Adjusted R-square:  0.8069295961719672\n",
      "F value : 759.2730494898232\n",
      "Pvalues : [0. 0. 0. 0. 0. 0. 0.]\n",
      "Sum of Residuals : 0.7109851625605527\n"
     ]
    },
    {
     "name": "stderr",
     "output_type": "stream",
     "text": [
      "c:\\users\\shweta\\appdata\\local\\programs\\python\\python37\\lib\\site-packages\\sklearn\\linear_model\\_coordinate_descent.py:531: ConvergenceWarning: Objective did not converge. You might want to increase the number of iterations. Duality gap: 4.857020107491253, tolerance: 0.006791879222639765\n",
      "  positive)\n"
     ]
    }
   ],
   "source": [
    "from sklearn.linear_model import Lasso  # used Lasso model for prediction becuase our aim is to get non-negative co-efficient\n",
    "regressor = Lasso(alpha=0.00000000001,positive=True,max_iter=100) #setting parameter for Lasso difining alpha and setting how much max iter should be\n",
    "\n",
    "temp=regressor.fit(X_train,y_train)  \n",
    "\n",
    "coeff_df = pd.DataFrame(temp.coef_, X_train.columns, columns=['Cofficient']) # getting coefficient value with the name of column for which co-efficient is generated\n",
    "print(coeff_df)\n",
    "print()\n",
    "\n",
    "print('Linear Intercept term: ',temp.intercept_) # obtaining intercept term\n",
    "\n",
    "y_pred = regressor.predict(X_test)  # predicting the value of y(i.e. CPI) for testing data so that we can check how accurate our model is\n",
    "\n",
    "from sklearn.metrics import mean_squared_error, mean_absolute_error, r2_score\n",
    "from math import sqrt\n",
    "print()\n",
    "rmse = sqrt(mean_squared_error(y_test, y_pred))  # Computing value of Root Mean Square Error for testing data\n",
    "print(\"RMSE:- \",rmse)\n",
    "\n",
    "rsq = r2_score(y_test,y_pred) # Computing R-Squared for testing data\n",
    "print('R-square: ',rsq)\n",
    "\n",
    "rad=1-(((1-rsq)*(len(y)-1))/(len(y)-1-X.shape[1])) # Computing Adjusted R-Squared for testing data\n",
    "print('Adjusted R-square: ', rad)\n",
    "\n",
    "F=(rsq/(1-rsq))*((len(y)-1-X.shape[1])/X.shape[1]) # Computing F-value for testing data\n",
    "print('F value :',F)\n",
    "\n",
    "print(\"Pvalues :\",ttest_ind(X, y).pvalue) # Finding p-value\n",
    "\n",
    "res=y_test-y_pred  # Getting vale of all the residuals\n",
    "print('Sum of Residuals :', sum(res))\n"
   ]
  },
  {
   "cell_type": "code",
   "execution_count": 29,
   "metadata": {
    "scrolled": true
   },
   "outputs": [
    {
     "name": "stdout",
     "output_type": "stream",
     "text": [
      "branch-misses 0.06470324879896214\n",
      "cache-misses 0.2068916642933954\n",
      "LLC-store-misses 0.010395678480735061\n",
      "branch-load-misses 0.29027302365400626\n",
      "dTLB-load-misses 0.018511595663442175\n",
      "dTLB-store-misses 0.00666618931628662\n",
      "iTLB-load-misses 0.019997694063173733\n",
      "Base CPI is--             0.5406655074155122\n",
      "Misses CPI is--             0.6174390942700013\n",
      "CPI we got is--             1.1581046016855137\n",
      "Average CPI is--             1.1974218611833989\n"
     ]
    }
   ],
   "source": [
    "mean_instruction = dataset['instructions'].values.mean()  # Computing mean of total instruction\n",
    "mean_cpi = dataset['CPI'].values.mean() # Computing mean of CPI \n",
    "\n",
    "#Extracting values of all the co-efficient for calculation and storing them in specific variable\n",
    "C1=temp.coef_[0]\n",
    "C2=temp.coef_[1]\n",
    "C3=temp.coef_[2]\n",
    "C4=temp.coef_[3]\n",
    "C5=temp.coef_[4]\n",
    "C6=temp.coef_[5]\n",
    "C7=temp.coef_[6]\n",
    "#C8=temp.coef_[7]\n",
    "#C9=temp.coef_[8]\n",
    "\n",
    "# getting name in coefficient array so that we can check which value is for which array\n",
    "index = coeff_df.index\n",
    "a_list = list(index)\n",
    "\n",
    "# Computing CPI for all the miss event for developing the CPI stack\n",
    "mean_C1 = dataset[a_list[0]].values.mean()  # in order to get the CPI  obtained mean of count of specific column\n",
    "cpi_of_c1=C1*(mean_C1/mean_instruction) # For getting value between 0 and 1 we have divided each column with count of inst so here again we are dividing with count of instructions\n",
    "print(a_list[0],cpi_of_c1)  # printing the name of miss event and value of CPI corresponding to the miss event\n",
    "\n",
    "# same above three steps are continued for all the events\n",
    "mean_C2 = dataset[a_list[1]].values.mean()\n",
    "cpi_of_c2=C2*(mean_C2/mean_instruction)\n",
    "print(a_list[1],cpi_of_c2)\n",
    "\n",
    "mean_C3 = dataset[a_list[2]].values.mean()\n",
    "cpi_of_c3=C3*(mean_C3/mean_instruction)\n",
    "print(a_list[2],cpi_of_c3)\n",
    "\n",
    "mean_C4 = dataset[a_list[3]].values.mean()\n",
    "cpi_of_c4=C4*(mean_C4/mean_instruction)\n",
    "print(a_list[3],cpi_of_c4)\n",
    "\n",
    "mean_C5 = dataset[a_list[4]].values.mean()\n",
    "cpi_of_c5=C5*(mean_C5/mean_instruction)\n",
    "print(a_list[4],cpi_of_c5)\n",
    "\n",
    "mean_C6 = dataset[a_list[5]].values.mean()\n",
    "cpi_of_c6=C6*(mean_C6/mean_instruction)\n",
    "print(a_list[5],cpi_of_c6)\n",
    "\n",
    "mean_C7 = dataset[a_list[6]].values.mean()\n",
    "cpi_of_c7=C7*(mean_C7/mean_instruction)\n",
    "print(a_list[6],cpi_of_c7)\n",
    "\n",
    "#mean_C8 = dataset[a_list[7]].values.mean()\n",
    "#cpi_of_c8=C8*(mean_C8/mean_instruction)\n",
    "#print(a_list[7],cpi_of_c8)\n",
    "\n",
    "#mean_C9 = dataset[a_list[8]].values.mean()\n",
    "#cpi_of_c9=C9*(mean_C9/mean_instruction)\n",
    "#print(a_list[8],cpi_of_c9)\n",
    "\n",
    "\n",
    "\n",
    "Base_cpi=temp.intercept_  # intercept will give the value of base CPI and for building the stack we will need base CPI\n",
    "print('Base CPI is--            ',Base_cpi)\n",
    "\n",
    "misses_cpi=cpi_of_c1+cpi_of_c2+cpi_of_c3+cpi_of_c4+cpi_of_c5+cpi_of_c6+cpi_of_c7 # Finding CPI contribution due to all the misses\n",
    "print('Misses CPI is--            ',misses_cpi)\n",
    "\n",
    "print('CPI we got is--            ',Base_cpi+misses_cpi) # what is the average CPI we got by our calculation\n",
    "\n",
    "print('Average CPI is--            ',mean_cpi) # what is the actual average CPI for the benchmark"
   ]
  },
  {
   "cell_type": "code",
   "execution_count": 30,
   "metadata": {},
   "outputs": [
    {
     "data": {
      "image/png": "[encoded data removed]",
      "text/plain": [
       "<Figure size 432x288 with 1 Axes>"
      ]
     },
     "metadata": {
      "needs_background": "light"
     },
     "output_type": "display_data"
    }
   ],
   "source": [
    "#creating the array of all the values of CPI of all the miss event so that we can directly get value byindexing also appended base CPI\n",
    "array_of_cpi=[cpi_of_c1,cpi_of_c2,cpi_of_c3,cpi_of_c4,cpi_of_c5,cpi_of_c6,cpi_of_c7,Base_cpi]\n",
    "\n",
    "label_of_cpi=[]  # this array will store the name of all the miss event we have \n",
    "for i in range(0,7):\n",
    "    label_of_cpi.append(a_list[i])\n",
    "label_of_cpi.append('Base CPI') # we also add base cpi in the array becuase this will be the base of stack\n",
    "\n",
    "sum_prev_cpi=0 # for building the stck we will need CPI in the format of sum because if we are moving up in the bar graph than our value is increasing by that number\n",
    "\n",
    "for i in range(7,-1,-1):  # getting the sum to build stack (Here base cpi is not used becuase we not need to do any sumation for base CPI becuse that will be base of stack)\n",
    "    array_of_cpi[i]=array_of_cpi[i]+sum_prev_cpi\n",
    "    sum_prev_cpi=array_of_cpi[i]\n",
    "    \n",
    "width = 0.55        # width of the bar\n",
    "\n",
    "fig, ax = plt.subplots() # generating the CPI stack\n",
    "for i in range(0,8):\n",
    "    ax.bar( width,array_of_cpi[i],  label=label_of_cpi[i])\n",
    "    \n",
    "ax.set_ylabel('CPI')  # y axis is labled as CPI\n",
    "ax.set_title('CPI Stack')\n",
    "ax.legend()\n",
    "\n",
    "plt.tick_params(\n",
    "    axis='x',          # changes apply to the x-axis\n",
    "    which='both',      # both major and minor ticks are affected\n",
    "    bottom=False,      # ticks along the bottom edge are off\n",
    "    top=False,         # ticks along the top edge are off\n",
    "    labelbottom=False) # labels along the bottom edge are off\n",
    "plt.show()"
   ]
  },
  {
   "cell_type": "code",
   "execution_count": 31,
   "metadata": {},
   "outputs": [
    {
     "data": {
      "image/png": "[encoded data removed]",
      "text/plain": [
       "<Figure size 432x288 with 1 Axes>"
      ]
     },
     "metadata": {
      "needs_background": "light"
     },
     "output_type": "display_data"
    }
   ],
   "source": [
    "# For better visulation of the miss event we have built this bar graph so that we can compare all the miss event \n",
    "# including the base CPI (By comapring the length of bar we can analyze that which event is contributing how much\n",
    "# to the CPI)\n",
    "\n",
    "r=[cpi_of_c1,cpi_of_c2,cpi_of_c3,cpi_of_c4,cpi_of_c5,cpi_of_c6,cpi_of_c7,Base_cpi]\n",
    "s = np.array([int((x - min(r))/(max(r) - min(r)) * 10) for x in r])\n",
    "\n",
    "plt.bar(np.arange(len(s)), s)\n",
    "plt.show()"
   ]
  },
  {
   "cell_type": "code",
   "execution_count": 32,
   "metadata": {},
   "outputs": [
    {
     "data": {
      "image/png": "[encoded data removed]",
      "text/plain": [
       "<Figure size 432x288 with 1 Axes>"
      ]
     },
     "metadata": {
      "needs_background": "light"
     },
     "output_type": "display_data"
    }
   ],
   "source": [
    "# we have plotted our prediction\n",
    "# here y axis is predicted value and x axis is actual value \n",
    "import matplotlib.pyplot as plt\n",
    "plt.scatter(y_test,y_pred)\n",
    "plt.xlabel(\"Actual : \")\n",
    "plt.ylabel(\"Predicted : \")\n",
    "plt.title(\"Predicted  vs Actual: For Lasso\")\n",
    "plt.show()"
   ]
  },
  {
   "cell_type": "code",
   "execution_count": 33,
   "metadata": {},
   "outputs": [],
   "source": [
    "# Note:- Code below for here is just for checking not used in assignment report or anywhere else \n",
    "# All the code below from this point is for Linear regression we have just used this to check that what is the \n",
    "# difference we got between the Linear regression model and lasso model \n",
    "\n",
    "\n",
    "from sklearn.linear_model import LinearRegression\n",
    "regressor_linear = LinearRegression()\n",
    "# temp=regressor.fit(X_train, y_train)\n",
    "temp=regressor_linear.fit(X_train, y_train)\n",
    "y_pred_linear = regressor_linear.predict(X_test)\n"
   ]
  },
  {
   "cell_type": "code",
   "execution_count": 34,
   "metadata": {},
   "outputs": [
    {
     "name": "stdout",
     "output_type": "stream",
     "text": [
      "Linear Intercept term:  0.541053610385226\n",
      "Linear Coefficients: \n",
      " [2.88108560e+00 1.18221237e+01 2.48756172e+01 2.19374134e+01\n",
      " 3.28866446e+01 3.68312336e+01 1.41757128e+04]\n"
     ]
    }
   ],
   "source": [
    "print('Linear Intercept term: ',temp.intercept_) # This gives us the intercept term\n",
    "print('Linear Coefficients: \\n',temp.coef_) \n",
    "# print(temp.coef_)\n"
   ]
  },
  {
   "cell_type": "code",
   "execution_count": 35,
   "metadata": {},
   "outputs": [
    {
     "data": {
      "image/png": "[encoded data removed]",
      "text/plain": [
       "<Figure size 432x288 with 1 Axes>"
      ]
     },
     "metadata": {
      "needs_background": "light"
     },
     "output_type": "display_data"
    }
   ],
   "source": [
    "import matplotlib.pyplot as plt\n",
    "plt.scatter(y_test,y_pred_linear)\n",
    "plt.xlabel(\"Actual : $Y_i$\")\n",
    "plt.ylabel(\"Predicted : $\\hat{Y}_i$\")\n",
    "plt.title(\"Predicted  vs Actual: For Linear Regression\")\n",
    "plt.show()\n",
    "# print(y_pred_linear)\n",
    "# print(y_pred)"
   ]
  },
  {
   "cell_type": "code",
   "execution_count": 50,
   "metadata": {},
   "outputs": [
    {
     "name": "stdout",
     "output_type": "stream",
     "text": [
      "\n",
      "RMSE:-  0.11635588448991227\n",
      "R-square:  0.8079937637521217\n"
     ]
    }
   ],
   "source": [
    "from sklearn.metrics import mean_squared_error, mean_absolute_error, r2_score\n",
    "from math import sqrt\n",
    "print()\n",
    "rmse = sqrt(mean_squared_error(y_test, y_pred_linear))  # Computing value of Root Mean Square Error for testing data\n",
    "print(\"RMSE:- \",rmse)\n",
    "\n",
    "rsq = r2_score(y_test,y_pred) # Computing R-Squared for testing data\n",
    "print('R-square: ',rsq)"
   ]
  },
  {
   "cell_type": "code",
   "execution_count": null,
   "metadata": {},
   "outputs": [],
   "source": []
  }
 ],
 "metadata": {
  "kernelspec": {
   "display_name": "Python 3",
   "language": "python",
   "name": "python3"
  },
  "language_info": {
   "codemirror_mode": {
    "name": "ipython",
    "version": 3
   },
   "file_extension": ".py",
   "mimetype": "text/x-python",
   "name": "python",
   "nbconvert_exporter": "python",
   "pygments_lexer": "ipython3",
   "version": "3.7.6"
  }
 },
 "nbformat": 4,
 "nbformat_minor": 4
}
